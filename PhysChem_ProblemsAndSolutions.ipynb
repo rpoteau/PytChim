{
 "cells": [
  {
   "cell_type": "code",
   "execution_count": 1,
   "id": "269396e1-4699-46d7-b7bc-8ef342174c94",
   "metadata": {},
   "outputs": [
    {
     "name": "stdout",
     "output_type": "stream",
     "text": [
      "/home/romuald/ENSEIGNEMENT/0-JupyterNotebooks/pyPhysChem\n"
     ]
    },
    {
     "data": {
      "text/html": [
       "<style>\n",
       "h1, h2, h3, h4, h5, h6 {\n",
       "  font-family: Verdana, \"DejaVu Sans\", \"Bitstream Vera Sans\", Geneva, sans-serif;\n",
       "  font-weight: bold;\n",
       "}\n",
       "body, intro, introE, introT, rq, rqE, rqT, ex, exE, app, appE, sol, todo, figure  {\n",
       "  font-family: Verdana, \"DejaVu Sans\", \"Bitstream Vera Sans\", Geneva, sans-serif;\n",
       "  font-weight: 400;\n",
       "  font-size: 12px;\n",
       "}\n",
       "h1 {\n",
       "  border: 0 solid #333;\n",
       "  padding: 30px ;\n",
       "  color: white;\n",
       "  background: #b11d01;\n",
       "  text-align: center;\n",
       "}\n",
       "h2 {\n",
       "  border: 3px solid #333;\n",
       "  padding: 18px ;\n",
       "  color: #b11d01;\n",
       "  background: #ffffff;\n",
       "  text-align: center;\n",
       "}\n",
       "h3 {\n",
       "  border: 0 solid #333;\n",
       "  padding: 12px ;\n",
       "  color: #000000;\n",
       "  background: #c1c1c1;\n",
       "  text-align: left;\n",
       "}\n",
       "h4 {\n",
       "  border: 0 solid #333;\n",
       "  padding: 2px ;\n",
       "  color: #000000;\n",
       "  background: #d9fffc;\n",
       "  text-align: left;\n",
       "}\n",
       "h5 {\n",
       "  border: 1px solid #333;\n",
       "  padding: 2px ;\n",
       "  color: #000000;\n",
       "  background: #ffffff;\n",
       "  text-align: left;\n",
       "}\n",
       ".introT::before {    \n",
       "    content: attr(title);\n",
       "    background-color: #cecece;\n",
       "    margin-left:-0.5em;\n",
       "    margin-right:-0.5em;\n",
       "    padding-left:0.5em;\n",
       "    padding-right:0.5em;\n",
       "    font-weight: 600;\n",
       "    display: block;\n",
       "}\n",
       ".introT {    \n",
       "    background-color: #cecece80;\n",
       "    border-color: #969696;\n",
       "    border-left: 5px solid #969696;\n",
       "    padding: 0.5em;\n",
       "}\n",
       ".intro {    \n",
       "    background-color: #cecece80;\n",
       "    border-color: #969696;\n",
       "    border-left: 5px solid #969696;\n",
       "    padding: 0.5em;\n",
       "}\n",
       ".introE {    \n",
       "    background-color: #cecece80;\n",
       "    border-color: #969696;\n",
       "    border-left: 5px solid #969696;\n",
       "    padding: 0.5em;\n",
       "    color : #117996;\n",
       "}\n",
       ".rq::before {    \n",
       "    background-color: #fcd3d3;\n",
       "    color: #ff0000;\n",
       "    content:\"Remarque\";\n",
       "    margin-left:-0.5em;\n",
       "    margin-right:-0.5em;\n",
       "    padding-left:0.5em;\n",
       "    padding-right:0.5em;\n",
       "    font-weight: 600;\n",
       "    display: block;\n",
       "}\n",
       ".rq {    \n",
       "    background-color: #fcf2f2;\n",
       "    border-color: #dFb5b4;\n",
       "    border-left: 5px solid #dfb5b4;\n",
       "    padding: 0.5em;\n",
       "}\n",
       ".rqE::before {    \n",
       "    background-color: #fcd3d3;\n",
       "    color: #ff0000;\n",
       "    content:\"Pay attention\";\n",
       "    margin-left:-0.5em;\n",
       "    margin-right:-0.5em;\n",
       "    padding-left:0.5em;\n",
       "    padding-right:0.5em;\n",
       "    font-weight: 600;\n",
       "    display: block;\n",
       "}\n",
       ".rqE {    \n",
       "    background-color: #fcd3d380;\n",
       "    border-color: #dFb5b4;\n",
       "    border-left: 5px solid #dfb5b4;\n",
       "    padding: 0.5em;\n",
       "}\n",
       ".rqT::before {    \n",
       "    background-color: #fcd3d3;\n",
       "    color: #ff0000;\n",
       "    content: attr(title);\n",
       "    margin-left:-0.5em;\n",
       "    margin-right:-0.5em;\n",
       "    padding-left:0.5em;\n",
       "    padding-right:0.5em;\n",
       "    font-weight: 600;\n",
       "    display: block;\n",
       "}\n",
       ".rqT {    \n",
       "    background-color: #fcd3d380;\n",
       "    border-color: #dFb5b4;\n",
       "    border-left: 5px solid #dfb5b4;\n",
       "    padding: 0.5em;\n",
       "}\n",
       ".exold {    \n",
       "    background-color: #b2dbea80;\n",
       "    border-color: #0055ff;\n",
       "    border-left: 10px solid #0055ff;\n",
       "    padding: 0.5em;\n",
       "}\n",
       ".ex {    \n",
       "    background-color: #b2dbea80;\n",
       "    padding: 0.5em;\n",
       "    padding-top: 0em;\n",
       "    position:relative;\n",
       "}\n",
       ".ex::before {\n",
       "    background-color: #b2dbea;\n",
       "    content:\"Exercice. \" attr(title);\n",
       "    margin-left:-0.5em;\n",
       "    margin-right:-0.5em;\n",
       "    padding-left:0.5em;\n",
       "    padding-right:0.5em;\n",
       "    font-weight: 600;\n",
       "    display: block;\n",
       "}\n",
       ".exE {    \n",
       "    background-color: #b2dbea80;\n",
       "    padding: 0.5em;\n",
       "    padding-top: 0em;\n",
       "    position:relative;\n",
       "    color : #117996;\n",
       "}\n",
       ".exE::before {\n",
       "    background-color: #b2dbea;\n",
       "    content:\"Exercise. \" attr(title);\n",
       "    margin-left:-0.5em;\n",
       "    margin-right:-0.5em;\n",
       "    padding-left:0.5em;\n",
       "    padding-right:0.5em;\n",
       "    font-weight: 600;\n",
       "    display: block;\n",
       "    color : #117996;\n",
       "}\n",
       ".app {    \n",
       "    background-color: #b2dbea80;\n",
       "    padding: 0.5em;\n",
       "    padding-top: 0em;\n",
       "    position:relative;\n",
       "}\n",
       ".app::before {\n",
       "    background-color: #b2dbea;\n",
       "    content:\"Application\";\n",
       "    margin-left:-0.5em;\n",
       "    margin-right:-0.5em;\n",
       "    padding-left:0.5em;\n",
       "    padding-right:0.5em;\n",
       "    font-weight: 600;\n",
       "    display: block;\n",
       "}\n",
       ".appE {    \n",
       "    background-color: #b2dbea80;\n",
       "    padding: 0.5em;\n",
       "    padding-top: 0em;\n",
       "    color : #117996;\n",
       "    position:relative;\n",
       "}\n",
       ".appE::before {\n",
       "    background-color: #b2dbea;\n",
       "    content:\"Application\";\n",
       "    margin-left:-0.5em;\n",
       "    margin-right:-0.5em;\n",
       "    padding-left:0.5em;\n",
       "    padding-right:0.5em;\n",
       "    font-weight: 600;\n",
       "    color : #117996;\n",
       "    display: block;\n",
       "}\n",
       ".sol {    \n",
       "    background-color: #bbeab880;\n",
       "    padding: 0.5em;\n",
       "    padding-top: 0em;\n",
       "    position:relative;\n",
       "}\n",
       ".sol::before {\n",
       "    background-color: #bbeab8;\n",
       "    content:\"Answer\";\n",
       "    margin-left:-0.5em;\n",
       "    margin-right:-0.5em;\n",
       "    padding-left:0.5em;\n",
       "    padding-right:0.5em;\n",
       "    font-weight: 600;\n",
       "    display: block;\n",
       "}\n",
       ".com {    \n",
       "    background-color: #ffff7f80;\n",
       "    padding: 0.5em;\n",
       "    padding-top: 0em;\n",
       "    position:relative;\n",
       "}\n",
       ".com::before {\n",
       "    background-color: #ffff7f;\n",
       "    content:\"Comment.\";\n",
       "    margin-left:-0.5em;\n",
       "    margin-right:-0.5em;\n",
       "    padding-left:0.5em;\n",
       "    padding-right:0.5em;\n",
       "    font-weight: 600;\n",
       "    display: block;\n",
       "}\n",
       "div.todo:before {\n",
       "    content:url(data:image/png;base64,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);\n",
       "    float:left;\n",
       "    margin-left:20px;\n",
       "    margin-right:20px;\n",
       "    margin-top:20px;\n",
       "    margin-bottom:20px;\n",
       "}\n",
       "div.todo{\n",
       "    font-size: 1.1em;\n",
       "    margin-top:40px;\n",
       "    background-color: #b2dbea80;\n",
       "}\n",
       "div.todo ul{\n",
       "    margin: 0.2em;\n",
       "}\n",
       "div.todo li{\n",
       "    margin-left:60px;\n",
       "    margin-top:0;\n",
       "    margin-bottom:0;\n",
       "}\n",
       "\n",
       "figure {\n",
       "    border: 0px;\n",
       "    text-align: center;\n",
       "    margin: 5px; /* adjust as needed */\n",
       "    display: block;\n",
       "    margin: auto;\n",
       "}\n",
       "figure img {\n",
       "    vertical-align: top;\n",
       "    text-align: center;\n",
       "    display: block;\n",
       "    margin: auto;\n",
       "}\n",
       "figure figcaption {\n",
       "    border: 0px;\n",
       "    text-align: center;\n",
       "    font-size: 11px;\n",
       "    margin: auto;\n",
       "}\n",
       "\n",
       "</style>\n"
      ],
      "text/plain": [
       "<IPython.core.display.HTML object>"
      ]
     },
     "metadata": {},
     "output_type": "display_data"
    },
    {
     "data": {
      "text/markdown": [
       "**Start at:** Tuesday 05 March 2024, 21:33:25  \n",
       "**Hostname:** pc-55.home (Linux)"
      ],
      "text/plain": [
       "<IPython.core.display.Markdown object>"
      ]
     },
     "metadata": {},
     "output_type": "display_data"
    },
    {
     "data": {
      "text/markdown": [
       "<p style=\"text-align: center\"><img width=\"800px\" src=\"./config/svg/pyPhysChemBanner.svg\" style=\"margin-left:auto; margin-right:auto\"/></p>"
      ],
      "text/plain": [
       "<IPython.core.display.Markdown object>"
      ]
     },
     "metadata": {},
     "output_type": "display_data"
    }
   ],
   "source": [
    "import os\n",
    "import sys\n",
    "\n",
    "print(os.getcwd())\n",
    "cwd0 = './config/'\n",
    "sys.path.append(cwd0)\n",
    "\n",
    "import visualID_Eng as vID\n",
    "from visualID_Eng import fg,bg,hl,color\n",
    "vID.init(cwd0)\n",
    "import tools4pyPhysChem as t4pPC"
   ]
  },
  {
   "cell_type": "markdown",
   "id": "a1b3496a-7f24-4bef-ae7c-617f267ab7ad",
   "metadata": {
    "tags": []
   },
   "source": [
    "# Physical Chemistry Problems and Solutions\n",
    "\n",
    "## Introduction\n",
    "\n",
    "<div class=\"rqT\" title = \"Recommendation\">\n",
    "\n",
    "A basic knowledge and skills in the Python language and in the use of Computer Algebra Systems (CAS) is mandatory\n",
    "\n",
    "You can first check whether you have such skills or whether you need to develop them with the [\"Python in the Physical Chemistry Lab (PPCL)\" in a nutshell](./PPCL.ipynb) and [Computer Algebra System with Python (pCAS) in a nutshell](./pCAS.ipynb) notebooks.\n",
    "\n",
    "</div>"
   ]
  },
  {
   "cell_type": "markdown",
   "id": "13d364e6-db39-45b8-8568-2a3b8d854e82",
   "metadata": {},
   "source": [
    "## Prerequisite : physical constants and conversion factors\n",
    "\n",
    "<div class=\"rqT\" title=\"Directives\">\n",
    "    \n",
    "It is recommended to use the [physical constants of the SciPy library](https://docs.scipy.org/doc/scipy/reference/constants.html) instead of a copy/paste of values found on internet.\n",
    "\n",
    "**Run the next cell to import all necessary libraries as well as to initialize the physical constants and conversion factors necessary all throughout this notebook.**\n",
    "\n",
    "</div>"
   ]
  },
  {
   "cell_type": "code",
   "execution_count": 44,
   "id": "1dd1dcc0-f539-4d52-8367-36f8a5f0e0f9",
   "metadata": {},
   "outputs": [
    {
     "data": {
      "text/html": [
       "<div style='text-align:center; font-weight: bold; font-size:16px;background-color: #343132;color: #ffffff'>Physical constants. Name of the variable: (physical constant, unit, uncertainty)</div>"
      ],
      "text/plain": [
       "<IPython.core.display.HTML object>"
      ]
     },
     "metadata": {},
     "output_type": "display_data"
    },
    {
     "name": "stdout",
     "output_type": "stream",
     "text": [
      "\u001b[1mspeed of light in vacuum, \u001b[91mc\u001b[30m variable: (299792458.0, 'm s^-1', 0.0)\u001b[0m\n",
      "\u001b[1mBoltzmann constant, \u001b[91mkB\u001b[30m variable: (1.380649e-23, 'J K^-1', 0.0)\u001b[0m\n",
      "\u001b[1mAvogadro constant, \u001b[91mNA\u001b[30m variable: (6.02214076e+23, 'mol^-1', 0.0)\u001b[0m\n",
      "\n",
      "\u001b[1mPlanck constant, \u001b[91mh\u001b[30m variable: (6.62607015e-34, 'J Hz^-1', 0.0)\u001b[0m\n",
      "\u001b[1mReduced Planck constant, \u001b[91mhbar\u001b[30m variable: (1.054571817e-34, 'J s', 0.0)\u001b[0m\n",
      "\u001b[1mElementary charge, \u001b[91me\u001b[30m variable: (1.602176634e-19, 'C', 0.0)\u001b[0m\n",
      "\u001b[1mElectron mass, \u001b[91mme\u001b[30m variable: (9.1093837015e-31, 'kg', 2.8e-40)\u001b[0m\n",
      "\u001b[1mProton mass, \u001b[91mmp\u001b[30m variable: (1.67262192369e-27, 'kg', 5.1e-37)\u001b[0m\n",
      "\u001b[1mVacuum electric permittivity, \u001b[91meps0\u001b[30m variable: (8.8541878128e-12, 'F m^-1', 1.3e-21)\u001b[0m\n",
      "\u001b[1mRydberg constant, \u001b[91mRinf\u001b[30m variable: (10973731.56816, 'm^-1', 2.1e-05)\u001b[0m\n",
      "\u001b[1mBohr radius, \u001b[91ma0\u001b[30m variable: (5.29177210903e-11, 'm', 8e-21)\u001b[0m\n",
      "\n"
     ]
    },
    {
     "data": {
      "text/html": [
       "<div style='text-align:center; font-weight: bold; font-size:16px;background-color: #343132;color: #ffffff'>Conversion factors</div>"
      ],
      "text/plain": [
       "<IPython.core.display.HTML object>"
      ]
     },
     "metadata": {},
     "output_type": "display_data"
    },
    {
     "name": "stdout",
     "output_type": "stream",
     "text": [
      "\u001b[94m\u001b[1mhartree (h) to electron-volt (eV) conversion factor, \u001b[91mh2eV\u001b[94m variable: 1 h = 27.211 eV\u001b[0m\n",
      "\u001b[94m\u001b[1munified atomic mass unit (u) to kilogram (kg) conversion factor, \u001b[91mu2kg\u001b[94m variable: 1 u = 1.661e-27 kg\u001b[0m\n",
      "\u001b[94m\u001b[1melectron-volt (eV) to nanometer (nm) conversion factor, \u001b[91mev2nm\u001b[94m variable: 1 eV = 1239.8 nm\u001b[0m\n",
      "\u001b[94m\u001b[1mdebye (D) to Coulomb meter (C.m) conversion factor, \u001b[91mD2Cm\u001b[94m variable: 1 D = 3.336e-30 C.m\u001b[0m\n"
     ]
    }
   ],
   "source": [
    "import scipy.constants as sc\n",
    "import numpy as np\n",
    "import math as m\n",
    "from matplotlib import pyplot as plt\n",
    "import sympy as sp\n",
    "import molmass as mm\n",
    "import mendeleev as mev\n",
    "\n",
    "c = sc.value(\"speed of light in vacuum\")\n",
    "kB = sc.value(\"Boltzmann constant\")\n",
    "NA = sc.value(\"Avogadro constant\")\n",
    "\n",
    "h = sc.value(\"Planck constant\")\n",
    "hbar = sc.value(\"reduced Planck constant\")\n",
    "e = sc.value(\"elementary charge\")\n",
    "me = sc.value(\"electron mass\")\n",
    "mp = sc.value(\"proton mass\")\n",
    "a0 = sc.value(\"Bohr radius\")\n",
    "eps0 = sc.value(\"vacuum electric permittivity\")\n",
    "Rinf = sc.value(\"Rydberg constant\")\n",
    "\n",
    "t4pPC.centerTitle(f\"Physical constants. Name of the variable: (physical constant, unit, uncertainty)\")\n",
    "\n",
    "print(f'{hl.BOLD}speed of light in vacuum, {fg.RED}c{fg.BLACK} variable: {sc.physical_constants[\"speed of light in vacuum\"]}{hl.OFF}')\n",
    "print(f'{hl.BOLD}Boltzmann constant, {fg.RED}kB{fg.BLACK} variable: {sc.physical_constants[\"Boltzmann constant\"]}{hl.OFF}')\n",
    "print(f'{hl.BOLD}Avogadro constant, {fg.RED}NA{fg.BLACK} variable: {sc.physical_constants[\"Avogadro constant\"]}{hl.OFF}')\n",
    "print()\n",
    "print(f'{hl.BOLD}Planck constant, {fg.RED}h{fg.BLACK} variable: {sc.physical_constants[\"Planck constant\"]}{hl.OFF}')\n",
    "print(f'{hl.BOLD}Reduced Planck constant, {fg.RED}hbar{fg.BLACK} variable: {sc.physical_constants[\"reduced Planck constant\"]}{hl.OFF}')\n",
    "print(f'{hl.BOLD}Elementary charge, {fg.RED}e{fg.BLACK} variable: {sc.physical_constants[\"elementary charge\"]}{hl.OFF}')\n",
    "print(f'{hl.BOLD}Electron mass, {fg.RED}me{fg.BLACK} variable: {sc.physical_constants[\"electron mass\"]}{hl.OFF}')\n",
    "print(f'{hl.BOLD}Proton mass, {fg.RED}mp{fg.BLACK} variable: {sc.physical_constants[\"proton mass\"]}{hl.OFF}')\n",
    "print(f'{hl.BOLD}Vacuum electric permittivity, {fg.RED}eps0{fg.BLACK} variable: {sc.physical_constants[\"vacuum electric permittivity\"]}{hl.OFF}')\n",
    "print(f'{hl.BOLD}Rydberg constant, {fg.RED}Rinf{fg.BLACK} variable: {sc.physical_constants[\"Rydberg constant\"]}{hl.OFF}')\n",
    "print(f'{hl.BOLD}Bohr radius, {fg.RED}a0{fg.BLACK} variable: {sc.physical_constants[\"Bohr radius\"]}{hl.OFF}')\n",
    "\n",
    "\n",
    "print()\n",
    "t4pPC.centerTitle(f\"Conversion factors\")\n",
    "Eh = 2*Rinf*h*c\n",
    "h2eV = Eh/e\n",
    "print(f\"{fg.BLUE}{hl.BOLD}hartree (h) to electron-volt (eV) conversion factor, {fg.RED}h2eV{fg.BLUE} variable: 1 h = {h2eV:.3f} eV{hl.OFF}\")\n",
    "u2kg = 1e-3/NA\n",
    "print(f\"{fg.BLUE}{hl.BOLD}unified atomic mass unit (u) to kilogram (kg) conversion factor, {fg.RED}u2kg{fg.BLUE} variable: 1 u = {u2kg:.3e} kg{hl.OFF}\")\n",
    "ev2nm = h*c*1e9/e\n",
    "print(f\"{fg.BLUE}{hl.BOLD}electron-volt (eV) to nanometer (nm) conversion factor, {fg.RED}ev2nm{fg.BLUE} variable: 1 eV = {ev2nm:.1f} nm{hl.OFF}\")\n",
    "D2Cm = 1e-21/c\n",
    "print(f\"{fg.BLUE}{hl.BOLD}debye (D) to Coulomb meter (C.m) conversion factor, {fg.RED}D2Cm{fg.BLUE} variable: 1 D = {D2Cm:.3e} C.m{hl.OFF}\")"
   ]
  },
  {
   "cell_type": "markdown",
   "id": "370f2070-f947-4fbd-9520-5c70914ffe62",
   "metadata": {},
   "source": [
    "## Rotational spectroscopy\n",
    "\n",
    "<div class=\"intro\">\n",
    "    \n",
    "[wikipedia page](https://en.wikipedia.org/wiki/Rotational_spectroscopy)\n",
    "\n",
    "</div>"
   ]
  },
  {
   "cell_type": "markdown",
   "id": "8fb8870b-2383-4d09-9513-df1db802ad51",
   "metadata": {},
   "source": [
    "### Moment of inertia of the water molecule"
   ]
  },
  {
   "cell_type": "markdown",
   "id": "d18288db-90c4-490c-ad4e-593470312205",
   "metadata": {},
   "source": [
    "<div class=\"exE\">\n",
    "\n",
    "1. Print the H and O masses available in the`molmass` library, and store them in `mH` and  `mO` variables\n",
    "2. Convert them in kg\n",
    "3. What is the formula that gives the moment of inertia of a molecule?\n",
    "4. Calculate the moment of inertia of a water molecule about the axis defined by the bisector of the angle HOH. The angle HOH measures 104.5° and the OH bond measures 95.7 pm\n",
    "\n",
    "</div>"
   ]
  },
  {
   "cell_type": "code",
   "execution_count": 72,
   "id": "83b832ed-28d7-4697-8234-64ad4810d28a",
   "metadata": {},
   "outputs": [],
   "source": [
    "# insert your code here\n",
    "\n"
   ]
  },
  {
   "cell_type": "markdown",
   "id": "782263ca-0444-45d9-ab6c-342c999f5fe0",
   "metadata": {},
   "source": [
    "<div class=\"sol\">\n",
    "\n",
    "Want to see a possible answer? Uncomment the `# %load ./SolutionsToExercises/...` command below, and then run the cell\n",
    "</div>"
   ]
  },
  {
   "cell_type": "code",
   "execution_count": 13,
   "id": "e7243834-8cf9-4a6d-a7c5-6f28e37ee196",
   "metadata": {},
   "outputs": [
    {
     "data": {
      "text/html": [
       "<div style='text-align:center; font-weight: bold; font-size:16px;background-color: #343132;color: #ffffff'>Atomic masses setup</div>"
      ],
      "text/plain": [
       "<IPython.core.display.HTML object>"
      ]
     },
     "metadata": {},
     "output_type": "display_data"
    },
    {
     "name": "stdout",
     "output_type": "stream",
     "text": [
      "Mass of H = 1.007941 u = 1.674e-27 kg\n",
      "Mass of O = 15.999405 u = 2.657e-26 kg\n"
     ]
    },
    {
     "data": {
      "text/html": [
       "<div style='text-align:center; font-weight: bold; font-size:16px;background-color: #343132;color: #ffffff'>Moment of inertia of a molecule</div>"
      ],
      "text/plain": [
       "<IPython.core.display.HTML object>"
      ]
     },
     "metadata": {},
     "output_type": "display_data"
    },
    {
     "data": {
      "text/latex": [
       "$\\displaystyle I = \\sum_{i=1}^{N_\\mathrm{atoms}} m_i x_i^2$"
      ],
      "text/plain": [
       "<IPython.core.display.Math object>"
      ]
     },
     "metadata": {},
     "output_type": "display_data"
    },
    {
     "data": {
      "text/latex": [
       "$\\displaystyle \\text{where } x_i \\text{ is the perpendicular distance of the atom } i \\text{ from the axis of rotation}$"
      ],
      "text/plain": [
       "<IPython.core.display.Math object>"
      ]
     },
     "metadata": {},
     "output_type": "display_data"
    },
    {
     "data": {
      "text/html": [
       "<div style='text-align:center; font-weight: bold; font-size:16px;background-color: #343132;color: #ffffff'>Moment of inertia of H2O</div>"
      ],
      "text/plain": [
       "<IPython.core.display.HTML object>"
      ]
     },
     "metadata": {},
     "output_type": "display_data"
    },
    {
     "name": "stdout",
     "output_type": "stream",
     "text": [
      "Perpendicular distance of H atoms from the vertical axis = 75.7 pm\n",
      "Moment of inertia I = 1.917e-47 kg m^2\n"
     ]
    }
   ],
   "source": [
    "# %load ./SolutionsToExercises/PhysChemPbSol/I_H2O.py\n",
    "\n",
    "t4pPC.centerTitle(\"Atomic masses setup\")\n",
    "\n",
    "# Question 1\n",
    "mH = mm.ELEMENTS[\"H\"].mass\n",
    "mO = mm.ELEMENTS[\"O\"].mass\n",
    "\n",
    "# Question 2\n",
    "MH = mH*u2kg\n",
    "MO = mO*u2kg\n",
    "\n",
    "print(f\"Mass of H = {mH} u = {MH:.3e} kg\")\n",
    "print(f\"Mass of O = {mO} u = {MO:.3e} kg\")\n",
    "\n",
    "t4pPC.centerTitle(\"Moment of inertia of a molecule\")\n",
    "from IPython.display import Math\n",
    "display(Math('$$I = \\sum_{i=1}^{N_\\mathrm{atoms}} m_i x_i^2$$'))\n",
    "display(Math(r\"\\text{where } x_i \\text{ is the perpendicular distance of the atom } i \\text{ from the axis of rotation}\"))\n",
    "\n",
    "t4pPC.centerTitle(\"Moment of inertia of H2O\")\n",
    "rH = 95.7 * m.sin(m.radians(104.5/2))\n",
    "print(f\"Perpendicular distance of H atoms from the vertical axis = {rH:.1f} pm\")\n",
    "I = 2*MH*(rH*1e-12)**2\n",
    "print(f\"Moment of inertia I = {I:.3e} kg m^2\")\n",
    "\n"
   ]
  },
  {
   "cell_type": "markdown",
   "id": "6c3137cd-91f2-4078-86ea-47d1fc7d44df",
   "metadata": {},
   "source": [
    "### Value of *J* corresponding to the most highly populated rotational energy level of a linear rotor at a temperature *T*\n",
    "\n",
    "<div class=\"intro\">\n",
    "\n",
    "The population $\\mathcal{P}_{J}$ of a rotational state at a given temperature *T* depends on two factors, the Boltzmann factor $\\exp\\left(-\\frac{E_{J}}{k_{\\mathrm{B}}T}\\right)$ and the degeneracy of the rotational level, $g_J$. \n",
    "\n",
    "$$\\mathcal{P}_{J}=g_{J}\\exp\\left(-\\frac{E_{J}}{k_{\\mathrm{B}}T}\\right)=(2J+1)\\exp\\left(-\\frac{E_{J}}{k_{\\mathrm{B}}T}\\right)$$\n",
    "\n",
    "where:\n",
    "\n",
    "$$E_{J}=hc\\bar{B}J(J+1)$$\n",
    "\n",
    "$\\bar{B}$ is the rotational constant, defined as a wavenumber, *i.e.* in m<sup>-1</sup> and *J* is the rotational quantum number, which takes integer values between 0 and +∞. \n",
    "\n",
    "</div>"
   ]
  },
  {
   "cell_type": "markdown",
   "id": "8dd09509-3130-4259-8dce-37129391ddb5",
   "metadata": {},
   "source": [
    "<div class=\"exE\">\n",
    "\n",
    "1. Define the population $\\mathcal{P}_{J}$ as a `sympy` equation\n",
    "2. Check that *J*<sub>max</sub>, the rotational level that has the highest probability to be occupied, is given by the equation\n",
    "\n",
    "$$J_{\\mathrm{max}}=\\left(\\frac{k_{\\mathrm{B}}T}{2hc\\bar{B}}\\right)^{1/2}-\\frac{1}{2}$$ \n",
    "\n",
    "</div>"
   ]
  },
  {
   "cell_type": "code",
   "execution_count": null,
   "id": "52dbf8dd-8673-4309-b27d-8930b55af1fc",
   "metadata": {},
   "outputs": [],
   "source": [
    "# insert your code here\n",
    "\n"
   ]
  },
  {
   "cell_type": "markdown",
   "id": "5a1b4373-10be-4f05-800f-073d19884757",
   "metadata": {},
   "source": [
    "<div class=\"sol\">\n",
    "\n",
    "Want to see a possible answer? Uncomment the `# %load ./SolutionsToExercises/...` command below, and then run the cell\n",
    "</div>"
   ]
  },
  {
   "cell_type": "code",
   "execution_count": 14,
   "id": "c31f18e1-7c10-40cb-899f-a4fbf0f8f00b",
   "metadata": {},
   "outputs": [
    {
     "data": {
      "text/html": [
       "<div style='text-align:center; font-weight: bold; font-size:16px;background-color: #343132;color: #ffffff'>Question 1</div>"
      ],
      "text/plain": [
       "<IPython.core.display.HTML object>"
      ]
     },
     "metadata": {},
     "output_type": "display_data"
    },
    {
     "data": {
      "text/latex": [
       "$\\displaystyle \\bar{B} J c h \\left(J + 1\\right)$"
      ],
      "text/plain": [
       "Bbar*J*c*h*(J + 1)"
      ]
     },
     "metadata": {},
     "output_type": "display_data"
    },
    {
     "data": {
      "text/latex": [
       "$\\displaystyle \\left(2 J + 1\\right) e^{- \\frac{\\bar{B} J c h \\left(J + 1\\right)}{T k_{B}}}$"
      ],
      "text/plain": [
       "(2*J + 1)*exp(-Bbar*J*c*h*(J + 1)/(T*k_B))"
      ]
     },
     "metadata": {},
     "output_type": "display_data"
    },
    {
     "data": {
      "text/html": [
       "<div style='text-align:center; font-weight: bold; font-size:16px;background-color: #343132;color: #ffffff'>Question 2</div>"
      ],
      "text/plain": [
       "<IPython.core.display.HTML object>"
      ]
     },
     "metadata": {},
     "output_type": "display_data"
    },
    {
     "data": {
      "text/latex": [
       "$\\displaystyle \\left(2 J + 1\\right) \\left(- \\frac{\\bar{B} J c h}{T k_{B}} - \\frac{\\bar{B} c h \\left(J + 1\\right)}{T k_{B}}\\right) e^{- \\frac{\\bar{B} J c h \\left(J + 1\\right)}{T k_{B}}} + 2 e^{- \\frac{\\bar{B} J c h \\left(J + 1\\right)}{T k_{B}}}$"
      ],
      "text/plain": [
       "(2*J + 1)*(-Bbar*J*c*h/(T*k_B) - Bbar*c*h*(J + 1)/(T*k_B))*exp(-Bbar*J*c*h*(J + 1)/(T*k_B)) + 2*exp(-Bbar*J*c*h*(J + 1)/(T*k_B))"
      ]
     },
     "metadata": {},
     "output_type": "display_data"
    },
    {
     "data": {
      "text/plain": [
       "[-1/2 - sqrt(2)*sqrt(Bbar*T*c*h*k_B)/(2*Bbar*c*h),\n",
       " -1/2 + sqrt(2)*sqrt(Bbar*T*c*h*k_B)/(2*Bbar*c*h)]"
      ]
     },
     "metadata": {},
     "output_type": "display_data"
    },
    {
     "data": {
      "text/latex": [
       "$\\displaystyle - \\frac{1}{2} + \\frac{\\sqrt{2} \\sqrt{\\bar{B} T c h k_{B}}}{2 \\bar{B} c h}$"
      ],
      "text/plain": [
       "-1/2 + sqrt(2)*sqrt(Bbar*T*c*h*k_B)/(2*Bbar*c*h)"
      ]
     },
     "metadata": {},
     "output_type": "display_data"
    }
   ],
   "source": [
    "# %load ./SolutionsToExercises/PhysChemPbSol/JmaxEq.py\n",
    "\n",
    "t4pPC.centerTitle(\"Question 1\")\n",
    "kB_, T_, h_, c_, Bbar_, J_ = sp.symbols('k_B, T, h, c, Bbar, J')\n",
    "\n",
    "EJ_ = J_*(J_+1)*h_*c_*Bbar_\n",
    "display(EJ_)\n",
    "\n",
    "PJ_ = (2*J_+1)*sp.exp(-EJ_/(kB_*T_))\n",
    "display(PJ_)\n",
    "\n",
    "t4pPC.centerTitle(\"Question 2\")\n",
    "eq_ = sp.diff(PJ_, J_)\n",
    "display(eq_)\n",
    "\n",
    "sol_ = sp.solve(eq_,J_)\n",
    "display(sol_)\n",
    "\n",
    "Jmax_ = sol_[1]\n",
    "display(Jmax_)\n",
    "\n"
   ]
  },
  {
   "cell_type": "markdown",
   "id": "47997861-4794-48f6-9749-435f17437301",
   "metadata": {},
   "source": [
    "<div class=\"exE\">\n",
    "\n",
    "The rotational constant of the linear O=C=S molecule is $\\bar{B}$ = 0.20286 cm<sup>-1</sup>\n",
    "\n",
    "1. Calculate *J*<sub>max</sub> at room temperature\n",
    "2. Plot *J*<sub>max</sub> as a function of *T*, in the range [0K, 1000K]\n",
    "\n",
    "</div>"
   ]
  },
  {
   "cell_type": "code",
   "execution_count": null,
   "id": "b4f8b2c0-e89a-45ea-8b54-1614fcd13bec",
   "metadata": {},
   "outputs": [],
   "source": [
    "# insert your code here\n",
    "\n"
   ]
  },
  {
   "cell_type": "markdown",
   "id": "a8dd6024-4a36-48f1-bbd2-d0f1e5c0b5fc",
   "metadata": {},
   "source": [
    "<div class=\"sol\">\n",
    "\n",
    "Want to see a possible answer? Uncomment the `# %load ./SolutionsToExercises/...` command below, and then run the cell\n",
    "</div>"
   ]
  },
  {
   "cell_type": "code",
   "execution_count": 15,
   "id": "5db94bc1-ae38-492b-980c-b6af34ebb0d4",
   "metadata": {},
   "outputs": [
    {
     "data": {
      "text/html": [
       "<div style='text-align:center; font-weight: bold; font-size:16px;background-color: #343132;color: #ffffff'>Question 1</div>"
      ],
      "text/plain": [
       "<IPython.core.display.HTML object>"
      ]
     },
     "metadata": {},
     "output_type": "display_data"
    },
    {
     "name": "stdout",
     "output_type": "stream",
     "text": [
      "Jmax ≈ 22\n"
     ]
    },
    {
     "data": {
      "text/html": [
       "<div style='text-align:center; font-weight: bold; font-size:16px;background-color: #343132;color: #ffffff'>Question 2</div>"
      ],
      "text/plain": [
       "<IPython.core.display.HTML object>"
      ]
     },
     "metadata": {},
     "output_type": "display_data"
    },
    {
     "data": {
      "image/png": "[encoded data removed]",
      "text/plain": [
       "<Figure size 640x480 with 1 Axes>"
      ]
     },
     "metadata": {},
     "output_type": "display_data"
    }
   ],
   "source": [
    "# %load ./SolutionsToExercises/PhysChemPbSol/JmaxPlot.py\n",
    "\n",
    "# it is first necessary to lambdify the Jmax_ sympy function,\n",
    "# and to substitute the symbols of the physical constants with their numerical value\n",
    "Jmax = sp.lambdify([Bbar_, T_], Jmax_.subs({kB_:kB, h_: h, c_:c}) )\n",
    "\n",
    "t4pPC.centerTitle(\"Question 1\")\n",
    "rt = 298.15 #Kelvin\n",
    "Bbar = 0.20286*100 #cm-1 to m-1\n",
    "print(f\"Jmax ≈ {Jmax(Bbar,rt):.0f}\")\n",
    "\n",
    "t4pPC.centerTitle(\"Question 2\")\n",
    "T = np.linspace(0,1000,1001)\n",
    "plt.plot(T,Jmax(Bbar,T))\n",
    "plt.xlabel(\"T / K\")\n",
    "plt.ylabel(\"$J_\\mathrm{max}$\")\n",
    "plt.show()\n"
   ]
  },
  {
   "cell_type": "markdown",
   "id": "bf4c65fd-0e15-4574-a9d6-6e97ca4bf959",
   "metadata": {},
   "source": [
    "### Interatomic bond length of the <sup>1</sup>H<sup>79</sup>Br diatomic molecule"
   ]
  },
  {
   "cell_type": "markdown",
   "id": "231c3849-09e6-46a3-b31f-7d01525a10ca",
   "metadata": {},
   "source": [
    "<div class=\"exE\">\n",
    "\n",
    "The rotational spectrum of the <sup>1</sup>H<sup>79</sup>Br molecule is made up of equidistant vertical lines, with $\\Delta \\bar{\\nu}$ = 16.702 cm<sup>-1</sup>. All equations will be written for the linear rotor:\n",
    "\n",
    "1. Print the <sup>1</sup>H and <sup>79</sup>Br masses available in the`molmass` library, and store them in `m1H` and  `m79Br` variables\n",
    "2. Define the $F_J$ equation as a `sympy` equation\n",
    "3. Express $\\Delta \\bar{\\nu}$ as a function of $\\bar{B}$\n",
    "</div>"
   ]
  },
  {
   "cell_type": "code",
   "execution_count": null,
   "id": "efacb2aa-cda9-4ba7-a5e5-d166c72ed222",
   "metadata": {},
   "outputs": [],
   "source": [
    "# insert your code here\n",
    "\n"
   ]
  },
  {
   "cell_type": "markdown",
   "id": "6593395c-0fed-4a67-af5a-ac30e9f0a133",
   "metadata": {},
   "source": [
    "<div class=\"sol\">\n",
    "\n",
    "Want to see a possible answer? Uncomment the `# %load ./SolutionsToExercises/...` command below, and then run the cell\n",
    "</div>"
   ]
  },
  {
   "cell_type": "code",
   "execution_count": 16,
   "id": "7413fb4c-9e1d-47bb-a540-3ef7b1f038d2",
   "metadata": {},
   "outputs": [
    {
     "data": {
      "text/html": [
       "<div style='text-align:center; font-weight: bold; font-size:16px;background-color: #343132;color: #ffffff'>Atomic masses setup</div>"
      ],
      "text/plain": [
       "<IPython.core.display.HTML object>"
      ]
     },
     "metadata": {},
     "output_type": "display_data"
    },
    {
     "name": "stdout",
     "output_type": "stream",
     "text": [
      "Mass of   1H = 1.00782503223 u\n",
      "Mass of 79Br = 78.9183376 u\n",
      "\n"
     ]
    },
    {
     "data": {
      "text/html": [
       "<div style='text-align:center; font-weight: bold; font-size:16px;background-color: #343132;color: #ffffff'>F_J Equation</div>"
      ],
      "text/plain": [
       "<IPython.core.display.HTML object>"
      ]
     },
     "metadata": {},
     "output_type": "display_data"
    },
    {
     "data": {
      "text/latex": [
       "$\\displaystyle \\bar{B} J c h \\left(J + 1\\right)$"
      ],
      "text/plain": [
       "Bbar*J*c*h*(J + 1)"
      ]
     },
     "metadata": {},
     "output_type": "display_data"
    },
    {
     "data": {
      "text/latex": [
       "$\\displaystyle \\bar{B} J \\left(J + 1\\right)$"
      ],
      "text/plain": [
       "Bbar*J*(J + 1)"
      ]
     },
     "metadata": {},
     "output_type": "display_data"
    },
    {
     "data": {
      "text/html": [
       "<div style='text-align:center; font-weight: bold; font-size:16px;background-color: #343132;color: #ffffff'>Delta nubar Equation</div>"
      ],
      "text/plain": [
       "<IPython.core.display.HTML object>"
      ]
     },
     "metadata": {},
     "output_type": "display_data"
    },
    {
     "data": {
      "text/latex": [
       "$\\displaystyle 2 \\bar{B} \\left(J + 1\\right)$"
      ],
      "text/plain": [
       "2*Bbar*(J + 1)"
      ]
     },
     "metadata": {},
     "output_type": "display_data"
    },
    {
     "data": {
      "text/latex": [
       "$\\displaystyle 2 \\bar{B} \\left(J + 2\\right)$"
      ],
      "text/plain": [
       "2*Bbar*(J + 2)"
      ]
     },
     "metadata": {},
     "output_type": "display_data"
    },
    {
     "data": {
      "text/latex": [
       "$\\displaystyle 2 \\bar{B}$"
      ],
      "text/plain": [
       "2*Bbar"
      ]
     },
     "metadata": {},
     "output_type": "display_data"
    }
   ],
   "source": [
    "# %load ./SolutionsToExercises/PhysChemPbSol/HBr-part1.py\n",
    "\n",
    "t4pPC.centerTitle(\"Atomic masses setup\")\n",
    "m1H = mm.ELEMENTS[\"H\"].isotopes[1].mass\n",
    "m79Br = mm.ELEMENTS[\"Br\"].isotopes[79].mass\n",
    "print(f\"Mass of   1H = {m1H} u\")\n",
    "print(f\"Mass of 79Br = {m79Br} u\")\n",
    "\n",
    "print()\n",
    "t4pPC.centerTitle(\"F_J Equation\")\n",
    "kB_, T_, h_, c_, Bbar_, J_ = sp.symbols('k_B, T, h, c, Bbar, J')\n",
    "\n",
    "# Q2\n",
    "def EJ_(J_):\n",
    "    return J_*(J_+1)*h_*c_*Bbar_\n",
    "display(EJ_(J_))\n",
    "\n",
    "def FJ_(J_):\n",
    "    return EJ_(J_)/(h_*c_)\n",
    "display(FJ_(J_))\n",
    "\n",
    "t4pPC.centerTitle(\"Delta nubar Equation\")\n",
    "nubar_J_Jplus1_ = sp.simplify(FJ_(J_+1) - FJ_(J_))\n",
    "nubar_Jplus1_Jplus2_ = sp.simplify(FJ_(J_+2) - FJ_(J_+1))\n",
    "\n",
    "DeltaNuBar_ = sp.simplify(nubar_Jplus1_Jplus2_ - nubar_J_Jplus1_)\n",
    "display(nubar_J_Jplus1_)\n",
    "display(nubar_Jplus1_Jplus2_)\n",
    "display(DeltaNuBar_)\n"
   ]
  },
  {
   "cell_type": "markdown",
   "id": "66361c64-1176-440a-beed-a36875401aba",
   "metadata": {},
   "source": [
    "<div class=\"exE\">\n",
    "\n",
    "4. For the linear rotor, the moment of inertia *I* is related to $\\bar{B}$ by the equation:\n",
    "   $$I = \\frac{\\hbar}{4\\pi c \\bar{B}}$$\n",
    "   For a diatomic molecule, *I* is also given by:\n",
    "   $$I = \\mu R_\\mathrm{eq}^2$$\n",
    "   where $\\mu$ is the reduced mass of the molecule.\n",
    "   \n",
    "   1. Express $R_\\mathrm{eq}$ as a function of *I*, $\\mu$ and $\\bar{B}$\n",
    "   2. Calculate $\\mu$ \n",
    "   3. Calculate the equilibrium bond length of the <sup>1</sup>H<sup>79</sup>Br diatomic molecule\n",
    "\n",
    "</div>"
   ]
  },
  {
   "cell_type": "code",
   "execution_count": null,
   "id": "7775f524-b41e-4a54-8048-db87da4f1ece",
   "metadata": {},
   "outputs": [],
   "source": [
    "# insert your code here\n",
    "\n"
   ]
  },
  {
   "cell_type": "markdown",
   "id": "3582b585-a304-4814-beca-586f76754081",
   "metadata": {},
   "source": [
    "<div class=\"sol\">\n",
    "\n",
    "Want to see a possible answer? Uncomment the `# %load ./SolutionsToExercises/...` command below, and then run the cell\n",
    "</div>"
   ]
  },
  {
   "cell_type": "code",
   "execution_count": 26,
   "id": "7a20fc03-affd-486b-a54c-c1e9c2c73e39",
   "metadata": {},
   "outputs": [],
   "source": [
    "# %load ./SolutionsToExercises/PhysChemPbSol/HBr-part2.py\n",
    "\n",
    "t4pPC.centerTitle(\"R_eq equation\")\n",
    "hbar_, mu_, Req_ = sp.symbols('hbar, mu, R_eq')\n",
    "I1 = hbar_ / (4*sp.pi*c_*Bbar_)\n",
    "display(I1)\n",
    "I2 = mu_ * Req_**2\n",
    "display(I2)\n",
    "Req_ = sp.solve(sp.Eq(I1,I2),Req_)[1]\n",
    "display(Req_)\n",
    "\n",
    "print()\n",
    "t4pPC.centerTitle(\"Reduced mass\")\n",
    "def muAB(mA,mB):\n",
    "    return mA*mB/(mA+mB)\n",
    "muHBr = muAB(m1H,m79Br)\n",
    "print(f\"Reduced mass = {muHBr} u = {muHBr*u2kg} kg\")\n",
    "\n",
    "print()\n",
    "t4pPC.centerTitle(\"Equilibrium bond length\")\n",
    "BbarHBr = 16.702/2 #cm-1\n",
    "BbarHBr = BbarHBr*100 #cm-1 to m-1\n",
    "Req = Req_.subs({hbar_:hbar, Bbar_: BbarHBr, c_:c, mu_:muHBr*u2kg, sp.pi:np.pi})\n",
    "print(f\"Req(HBr) = {Req:.3e} m = {Req*1e12:.1f} pm \")\n"
   ]
  },
  {
   "cell_type": "markdown",
   "id": "3e48ea23-57e3-4ae7-9e96-c7bce0dd8691",
   "metadata": {},
   "source": [
    "### Simulation of the rotational spectrum of a molecule in the framework of the rigid rotor model\n",
    "\n",
    "<div class=\"intro\">\n",
    "\n",
    "As already recalled, the energy of a rigid linear rotor is given by:\n",
    "\n",
    "$$E_{J}=hc\\bar{B}J(J+1)$$\n",
    "\n",
    "$\\bar{B}$ is the rotational constant, defined as a wavenumber, *i.e.* in m<sup>-1</sup> and *J* is the rotational quantum number, which takes integer values between 0 and +∞. \n",
    "\n",
    "The energy of a rotational state is normally reported as the rotational term $F_J$, which is a wavenumber:\n",
    "\n",
    "$$F_{J} = E_{J}/(hc) = \\bar{B}J(J+1)$$\n",
    "\n",
    "The specific rotational selection rules are found by evaluating the transition dipole moment between rotational states. It can be shown that the transition moment vanishes unless the following conditions is\n",
    "fulfilled:\n",
    "\n",
    "- $\\Delta J = +1$ for absorption spectra\n",
    "- $\\Delta J = -1$ for emission spectra\n",
    "\n",
    "As a consequence, spectral lines of a rotational absorption spectrum will correspond to $J \\rightarrow J+1$ transitions and their wavenumber will be given by:\n",
    "\n",
    "$$\\bar{\\nu}_{J,J+1} = F_{J+1}-F_{J} = 2\\bar{B}(J+1) $$\n",
    "\n",
    "<br><br><br>\n",
    "The intensity of a rotatonal spectral line can be evaluated with the formula:\n",
    "\n",
    "$$I_{J,J+1} = \\left( \\frac{J+1}{2J+1} \\right) \\mu_0^2 \\frac{\\mathcal{P}_{J+1}}{\\mathcal{P}_{J}}$$\n",
    "\n",
    "where:\n",
    "\n",
    "$$\\mathcal{P}_{J}=(2J+1)\\exp\\left(-\\frac{E_{J}}{k_{\\mathrm{B}}T}\\right)$$\n",
    "\n",
    "and  $\\mu_0$ is the permanent electric dipole moment of the molecule. It comes:\n",
    "\n",
    "$$I_{J,J+1} = \\frac{(J+1)(2J+3)}{(2J+1)^2} \\mu_0^2 \\exp\\left(-\\frac{E_{J+1}-E_{J}}{k_{\\mathrm{B}}T}\\right)$$\n",
    "\n",
    "</div>"
   ]
  },
  {
   "cell_type": "markdown",
   "id": "8a94170d-c762-4b06-a4cd-9338d10ca2a9",
   "metadata": {},
   "source": [
    "<div class=\"exE\">\n",
    "\n",
    "1. Define the $E_J$, $\\mathcal{P}_{J}$ and $I_{J,J+1}$ equations as `sympy` functions, named `EJ_(J_)`, `PJ_(J_)` and `Int_(J_)`\n",
    "2. Define also the $\\bar{\\nu}_{J,J+1}$ equation as a `sympy` function, `nu_(J_)`, and check that it returns $2\\bar{B}(J+1)$\n",
    "3. The permanent electric dipole moment of the CO molecule is 0.15 D, and the rotational constant of the <sup>12</sup>C<sup>16</sup>O compound is 1.922529 cm<sup>-1</sup>\n",
    "    1. Print the 12C and 16O masses available in the `molmass` library, and store them in m12C and m16O variables\n",
    "\n",
    "</div>"
   ]
  },
  {
   "cell_type": "code",
   "execution_count": 56,
   "id": "59954109-df9c-47c0-bef8-6b8df1189690",
   "metadata": {},
   "outputs": [
    {
     "data": {
      "text/html": [
       "<div style='text-align:center; font-weight: bold; font-size:16px;background-color: #343132;color: #ffffff'>EJ, PJ, Int</div>"
      ],
      "text/plain": [
       "<IPython.core.display.HTML object>"
      ]
     },
     "metadata": {},
     "output_type": "display_data"
    },
    {
     "data": {
      "text/latex": [
       "$\\displaystyle \\bar{B} J c h \\left(J + 1\\right)$"
      ],
      "text/plain": [
       "Bbar*J*c*h*(J + 1)"
      ]
     },
     "metadata": {},
     "output_type": "display_data"
    },
    {
     "name": "stdout",
     "output_type": "stream",
     "text": [
      "\n"
     ]
    },
    {
     "data": {
      "text/latex": [
       "$\\displaystyle \\left(2 J + 1\\right) e^{- \\frac{\\bar{B} J c h \\left(J + 1\\right)}{T k_{B}}}$"
      ],
      "text/plain": [
       "(2*J + 1)*exp(-Bbar*J*c*h*(J + 1)/(T*k_B))"
      ]
     },
     "metadata": {},
     "output_type": "display_data"
    },
    {
     "name": "stdout",
     "output_type": "stream",
     "text": [
      "\n"
     ]
    },
    {
     "data": {
      "text/latex": [
       "$\\displaystyle \\mu_{0}^{2} \\left(J + 1\\right) e^{- \\frac{\\bar{B} J c h \\left(J + 1\\right)}{T k_{B}}}$"
      ],
      "text/plain": [
       "mu_0**2*(J + 1)*exp(-Bbar*J*c*h*(J + 1)/(T*k_B))"
      ]
     },
     "metadata": {},
     "output_type": "display_data"
    },
    {
     "name": "stdout",
     "output_type": "stream",
     "text": [
      "\n"
     ]
    },
    {
     "data": {
      "text/latex": [
       "$\\displaystyle \\frac{\\mu_{0}^{2} \\left(J + 1\\right) \\left(2 J + 3\\right) e^{- \\frac{2 \\bar{B} c h \\left(J + 1\\right)}{T k_{B}}}}{\\left(2 J + 1\\right)^{2}}$"
      ],
      "text/plain": [
       "mu_0**2*(J + 1)*(2*J + 3)*exp(-2*Bbar*c*h*(J + 1)/(T*k_B))/(2*J + 1)**2"
      ]
     },
     "metadata": {},
     "output_type": "display_data"
    },
    {
     "name": "stdout",
     "output_type": "stream",
     "text": [
      "\n"
     ]
    },
    {
     "data": {
      "text/latex": [
       "$\\displaystyle \\left(2 J + 1\\right) e^{- \\frac{\\bar{B} J c h \\left(J + 1\\right)}{T k_{B}}}$"
      ],
      "text/plain": [
       "(2*J + 1)*exp(-Bbar*J*c*h*(J + 1)/(T*k_B))"
      ]
     },
     "metadata": {},
     "output_type": "display_data"
    },
    {
     "data": {
      "text/html": [
       "<div style='text-align:center; font-weight: bold; font-size:16px;background-color: #343132;color: #ffffff'>nu bar</div>"
      ],
      "text/plain": [
       "<IPython.core.display.HTML object>"
      ]
     },
     "metadata": {},
     "output_type": "display_data"
    },
    {
     "name": "stdout",
     "output_type": "stream",
     "text": [
      "\n"
     ]
    },
    {
     "data": {
      "text/latex": [
       "$\\displaystyle 2 \\bar{B} \\left(J + 1\\right)$"
      ],
      "text/plain": [
       "2*Bbar*(J + 1)"
      ]
     },
     "metadata": {},
     "output_type": "display_data"
    }
   ],
   "source": [
    "kB_, T_, h_, c_, Bbar_, J_, mu0_ = sp.symbols('k_B, T, h, c, Bbar, J, mu_0')\n",
    "\n",
    "t4pPC.centerTitle(\"EJ, PJ, Int\")\n",
    "def EJ_(J_):\n",
    "    return J_*(J_+1)*h_*c_*Bbar_\n",
    "display(EJ_(J_))\n",
    "\n",
    "def PJ_(J_):\n",
    "    return (2*J_+1)*sp.exp(-EJ_(J_)/(kB_*T_))\n",
    "print();display(PJ_(J_))\n",
    "\n",
    "def Int_(J_):\n",
    "    return sp.simplify((J_+1)/(2*J_+1)*mu0_**2*PJ_(J_))\n",
    "print();display(Int_(J_))\n",
    "\n",
    "def IntA_(J_):\n",
    "    return sp.simplify((J_+1)/(2*J_+1)*mu0_**2*PJ_(J_+1)/PJ_(J_))\n",
    "print();display(IntA_(J_))\n",
    "\n",
    "def IntB_(J_):\n",
    "    return sp.simplify(PJ_(J_))\n",
    "print();display(IntB_(J_))\n",
    "\n",
    "t4pPC.centerTitle(\"nu bar\")\n",
    "def nu_(J_):\n",
    "    return sp.simplify((EJ_(J_+1) - EJ_(J_))/(h_*c_))\n",
    "print();display (nu_(J_))"
   ]
  },
  {
   "cell_type": "code",
   "execution_count": 57,
   "id": "e9261062-9bd3-4fc5-a73d-1744c6965edb",
   "metadata": {},
   "outputs": [
    {
     "data": {
      "text/html": [
       "<div style='text-align:center; font-weight: bold; font-size:16px;background-color: #343132;color: #ffffff'>Simulated spectrum</div>"
      ],
      "text/plain": [
       "<IPython.core.display.HTML object>"
      ]
     },
     "metadata": {},
     "output_type": "display_data"
    },
    {
     "name": "stdout",
     "output_type": "stream",
     "text": [
      "Mass of 12C = 12.0 u = 1.992646880608616e-26 kg\n",
      "Mass of 16O = 15.99491461957 u = 2.656018060190609e-26 kg\n"
     ]
    },
    {
     "data": {
      "image/png": "[encoded data removed]",
      "text/plain": [
       "<Figure size 640x480 with 1 Axes>"
      ]
     },
     "metadata": {},
     "output_type": "display_data"
    },
    {
     "data": {
      "image/png": "[encoded data removed]",
      "text/plain": [
       "<Figure size 640x480 with 1 Axes>"
      ]
     },
     "metadata": {},
     "output_type": "display_data"
    },
    {
     "data": {
      "image/png": "[encoded data removed]",
      "text/plain": [
       "<Figure size 640x480 with 1 Axes>"
      ]
     },
     "metadata": {},
     "output_type": "display_data"
    }
   ],
   "source": [
    "t4pPC.centerTitle(\"Simulated spectrum\")\n",
    "m12C = mm.ELEMENTS[\"C\"].isotopes[12].mass\n",
    "m16O = mm.ELEMENTS[\"O\"].isotopes[16].mass\n",
    "M12C = m12C*u2kg\n",
    "M16O = m16O*u2kg\n",
    "print(f\"Mass of 12C = {m12C} u = {M12C} kg\")\n",
    "print(f\"Mass of 16O = {m16O} u = {M16O} kg\")\n",
    "\n",
    "BbarCO = 1.922529*100 #cm-1 to m-1\n",
    "muCO = 0.15*D2Cm #D to C.m\n",
    "T50   =   50 #K\n",
    "Trt   =  298.15 #K\n",
    "T1000 = 1000.0 #K\n",
    "\n",
    "nPeaks = 50\n",
    "waveJ = np.zeros(nPeaks)\n",
    "IntJ50 = np.zeros(nPeaks)\n",
    "IntJrt = np.zeros(nPeaks)\n",
    "IntJ1000 = np.zeros(nPeaks)\n",
    "ymin = np.zeros(nPeaks)\n",
    "for J in range(nPeaks):\n",
    "    waveJ[J] = nu_(J).subs({Bbar_:BbarCO})\n",
    "    IntJ50[J] = IntA_(J).subs({T_: T50, kB_: kB, mu0_: muCO, h_: h, c_: c, Bbar_:BbarCO})\n",
    "    IntJrt[J] = IntA_(J).subs({T_: Trt, kB_: kB, mu0_: muCO, h_: h, c_: c, Bbar_:BbarCO})\n",
    "    IntJ1000[J] = IntA_(J).subs({T_: T1000, kB_: kB, mu0_: muCO, h_: h, c_: c, Bbar_:BbarCO})\n",
    "    # print(waveJ[J], IntJ[J])\n",
    "\n",
    "plt.vlines(waveJ/100,ymin,IntJ50,label=\"T = 50K\",color=\"r\")\n",
    "plt.xlabel(\"wavenumber / cm$^{-1}$\")\n",
    "plt.ylabel(\"Intensity / arb. unit.\")\n",
    "plt.legend()\n",
    "plt.show()\n",
    "plt.vlines(waveJ/100,ymin,IntJrt,label=\"T = r.t.\",color=\"b\")\n",
    "plt.xlabel(\"wavenumber / cm$^{-1}$\")\n",
    "plt.ylabel(\"Intensity / arb. unit.\")\n",
    "plt.legend()\n",
    "plt.show()\n",
    "plt.vlines(waveJ/100,ymin,IntJ1000,label=\"T = 1000K\",color=\"g\")\n",
    "plt.xlabel(\"wavenumber / cm$^{-1}$\")\n",
    "plt.ylabel(\"Intensity / arb. unit.\")\n",
    "plt.legend()\n",
    "plt.show()"
   ]
  },
  {
   "cell_type": "markdown",
   "id": "8f2f8883-ec4f-4afb-bb1c-88012bf56e92",
   "metadata": {},
   "source": [
    "## Vibrational spectroscopy"
   ]
  },
  {
   "cell_type": "markdown",
   "id": "8d2d3d0a-9fdd-447e-a4ca-12caaeb54e37",
   "metadata": {},
   "source": [
    "### Diatomic molecules"
   ]
  },
  {
   "cell_type": "code",
   "execution_count": 68,
   "id": "f30c82bd-4d5b-41b5-bab4-6cfa7f395509",
   "metadata": {},
   "outputs": [
    {
     "data": {
      "text/html": [
       "<div style='text-align:center; font-weight: bold; font-size:16px;background-color: #343132;color: #ffffff'>Masses</div>"
      ],
      "text/plain": [
       "<IPython.core.display.HTML object>"
      ]
     },
     "metadata": {},
     "output_type": "display_data"
    },
    {
     "name": "stdout",
     "output_type": "stream",
     "text": [
      "\n",
      "1.6605390671738466e-27\n",
      "\n",
      "Mass of   1H = 1.00783 u = 1.673533e-27 kg\n",
      "Mass of   2H = 2.01410 u = 3.344495e-27 kg\n",
      "Mass of  19F = 18.99840 u = 3.154759e-26 kg\n",
      "Mass of 35Cl = 34.96885 u = 5.806715e-26 kg\n",
      "Mass of 81Br = 80.91629 u = 1.343647e-25 kg\n",
      "Mass of 127I = 126.90447 u = 2.107298e-25 kg\n"
     ]
    },
    {
     "data": {
      "text/html": [
       "<div style='text-align:center; font-weight: bold; font-size:16px;background-color: #343132;color: #ffffff'>Electronegativities</div>"
      ],
      "text/plain": [
       "<IPython.core.display.HTML object>"
      ]
     },
     "metadata": {},
     "output_type": "display_data"
    },
    {
     "name": "stdout",
     "output_type": "stream",
     "text": [
      " H: 2.2\n",
      " F: 3.98\n",
      "Cl: 3.16\n",
      "Br: 2.96\n",
      " I: 2.66\n"
     ]
    }
   ],
   "source": [
    "t4pPC.centerTitle(\"Masses\")\n",
    "M1H = mm.ELEMENTS[\"H\"].isotopes[1].mass\n",
    "M2H = mm.ELEMENTS[\"H\"].isotopes[2].mass\n",
    "M19F = mm.ELEMENTS[\"F\"].isotopes[19].mass\n",
    "M35Cl = mm.ELEMENTS[\"Cl\"].isotopes[35].mass\n",
    "M81Br = mm.ELEMENTS[\"Br\"].isotopes[81].mass\n",
    "M127I = mm.ELEMENTS[\"I\"].isotopes[127].mass\n",
    "m1H = M1H*u2kg\n",
    "m2H = M2H*u2kg\n",
    "m19F = M19F*u2kg\n",
    "m35Cl = M35Cl*u2kg\n",
    "m81Br = M81Br*u2kg\n",
    "m127I = M127I*u2kg\n",
    "print()\n",
    "print(u2kg)\n",
    "print()\n",
    "print(f\"Mass of   1H = {M1H:.5f} u = {m1H:.6e} kg\")\n",
    "print(f\"Mass of   2H = {M2H:.5f} u = {m2H:.6e} kg\")\n",
    "print(f\"Mass of  19F = {M19F:.5f} u = {m19F:.6e} kg\")\n",
    "print(f\"Mass of 35Cl = {M35Cl:.5f} u = {m35Cl:.6e} kg\")\n",
    "print(f\"Mass of 81Br = {M81Br:.5f} u = {m81Br:.6e} kg\")\n",
    "print(f\"Mass of 127I = {M127I:.5f} u = {m127I:.6e} kg\")\n",
    "t4pPC.centerTitle(\"Electronegativities\")\n",
    "print(f\" H: {mev.H.electronegativity('pauling')}\")\n",
    "print(f\" F: {mev.F.electronegativity('pauling')}\")\n",
    "print(f\"Cl: {mev.Cl.electronegativity('pauling')}\")\n",
    "print(f\"Br: {mev.Br.electronegativity('pauling')}\")\n",
    "print(f\" I: {mev.I.electronegativity('pauling')}\")"
   ]
  },
  {
   "cell_type": "code",
   "execution_count": 42,
   "id": "ef1680f8-d43a-46f3-9fef-6ca9bcad495f",
   "metadata": {},
   "outputs": [
    {
     "name": "stdout",
     "output_type": "stream",
     "text": [
      "mu_HF = 1.589228e-27 kg. k_HF = 967.1 N.m-1\n",
      "mu_HCl = 1.626652e-27 kg. k_HCl = 515.6 N.m-1\n",
      "mu_HBr = 1.652945e-27 kg. k_HBr = 411.8 N.m-1\n",
      "mu_HI = 1.660347e-27 kg. k_HI = 314.2 N.m-1\n"
     ]
    }
   ],
   "source": [
    "def kAB(nubar,mA,mB):\n",
    "    import numpy as np\n",
    "    muAB = mA*mB/(mA+mB)\n",
    "    kAB = (nubar*2*np.pi*c)**2*muAB\n",
    "    return muAB,kAB\n",
    "\n",
    "muHF,kHF = kAB(4141.3*100,m1H,m19F)\n",
    "muHCl,kHCl = kAB(2988.9*100,m1H,m35Cl)\n",
    "muHBr,kHBr = kAB(2649.7*100,m1H,m81Br)\n",
    "muHI,kHI = kAB(2309.5*100,m1H,m127I)\n",
    "\n",
    "print(f\"mu_HF = {muHF:.6e} kg. k_HF = {kHF:.1f} N.m-1\")\n",
    "print(f\"mu_HCl = {muHCl:.6e} kg. k_HCl = {kHCl:.1f} N.m-1\")\n",
    "print(f\"mu_HBr = {muHBr:.6e} kg. k_HBr = {kHBr:.1f} N.m-1\")\n",
    "print(f\"mu_HI = {muHI:.6e} kg. k_HI = {kHI:.1f} N.m-1\")"
   ]
  },
  {
   "cell_type": "code",
   "execution_count": 73,
   "id": "95652b57-ed77-4ae4-b69b-e263742feb56",
   "metadata": {},
   "outputs": [
    {
     "name": "stdout",
     "output_type": "stream",
     "text": [
      "mu_HCl = 1.626652e-27 kg\n",
      "300227.3339064722\n"
     ]
    }
   ],
   "source": [
    "mu_DF = m2H*m19F/(m2H+m19F)\n",
    "print(f\"mu_HCl = {muHCl:.6e} kg\")\n",
    "nubar_DF = np.sqrt(967.1/mu_DF)/(2*np.pi*c)\n",
    "print(nubar_DF)"
   ]
  },
  {
   "cell_type": "markdown",
   "id": "5e249ce0-1840-4e14-bb78-61fe19e17f9b",
   "metadata": {},
   "source": [
    "### HBr"
   ]
  },
  {
   "cell_type": "code",
   "execution_count": null,
   "id": "aa8e3df8-6cbc-4d0c-959f-ff6671e75eb3",
   "metadata": {},
   "outputs": [],
   "source": []
  },
  {
   "cell_type": "markdown",
   "id": "ae70f4a8-31d8-424f-a1a9-a53d74341511",
   "metadata": {},
   "source": [
    "# End"
   ]
  },
  {
   "cell_type": "code",
   "execution_count": 21,
   "id": "898a0af5-6513-4be2-8538-0d741a4c4478",
   "metadata": {},
   "outputs": [
    {
     "data": {
      "text/markdown": [
       "**End at:** Tuesday 13 February 2024, 09:24:04  \n",
       "**Duration:** 00:00:08 371ms"
      ],
      "text/plain": [
       "<IPython.core.display.Markdown object>"
      ]
     },
     "metadata": {},
     "output_type": "display_data"
    },
    {
     "data": {
      "text/markdown": [
       "<p style=\"text-align: center\"><img width=\"800px\" src=\"./config/svg/logoEnd.svg\" style=\"margin-left:auto; margin-right:auto\"/></p>"
      ],
      "text/plain": [
       "<IPython.core.display.Markdown object>"
      ]
     },
     "metadata": {},
     "output_type": "display_data"
    }
   ],
   "source": [
    "vID.end(cwd0)"
   ]
  },
  {
   "cell_type": "markdown",
   "id": "a82f6e56-49e0-4c35-8cab-1904e716ce69",
   "metadata": {},
   "source": [
    "# Appendix"
   ]
  },
  {
   "cell_type": "markdown",
   "id": "41c0d582-0e86-4a40-8fdc-91d856754cbf",
   "metadata": {},
   "source": [
    "## Momenta of inertia of molecules"
   ]
  },
  {
   "cell_type": "code",
   "execution_count": 4,
   "id": "c5df2886-7cee-4d38-948b-f387535fa628",
   "metadata": {},
   "outputs": [
    {
     "data": {
      "text/html": [
       "<div style='text-align:center; font-weight: bold; font-size:16px;background-color: #343132;color: #ffffff'>Atomic masses setup</div>"
      ],
      "text/plain": [
       "<IPython.core.display.HTML object>"
      ]
     },
     "metadata": {},
     "output_type": "display_data"
    },
    {
     "name": "stdout",
     "output_type": "stream",
     "text": [
      "Mass of H = 1.00782503223 u = 1.674e-27 kg\n",
      "Mass of O = 15.999405 u = 2.657e-26 kg\n"
     ]
    },
    {
     "data": {
      "text/html": [
       "<div style='text-align:center; font-weight: bold; font-size:16px;background-color: #343132;color: #ffffff'>Moment of inertia of a molecule</div>"
      ],
      "text/plain": [
       "<IPython.core.display.HTML object>"
      ]
     },
     "metadata": {},
     "output_type": "display_data"
    },
    {
     "data": {
      "text/latex": [
       "$\\displaystyle I = \\sum_{i=1}^{N_\\mathrm{atoms}} m_i x_i^2$"
      ],
      "text/plain": [
       "<IPython.core.display.Math object>"
      ]
     },
     "metadata": {},
     "output_type": "display_data"
    },
    {
     "data": {
      "text/latex": [
       "$\\displaystyle \\text{where } x_i \\text{ is the perpendicular distance of the atom } i \\text{ from the axis of rotation}$"
      ],
      "text/plain": [
       "<IPython.core.display.Math object>"
      ]
     },
     "metadata": {},
     "output_type": "display_data"
    },
    {
     "data": {
      "text/html": [
       "<div style='text-align:center; font-weight: bold; font-size:16px;background-color: #343132;color: #ffffff'>Moment of inertia of Molecule 1</div>"
      ],
      "text/plain": [
       "<IPython.core.display.HTML object>"
      ]
     },
     "metadata": {},
     "output_type": "display_data"
    },
    {
     "name": "stdout",
     "output_type": "stream",
     "text": [
      "Perpendicular distance of H atoms from the vertical axis = 80.7 pm\n",
      "Moment of inertia I = 2.178e-47 kg m^2\n"
     ]
    },
    {
     "data": {
      "text/html": [
       "<div style='text-align:center; font-weight: bold; font-size:16px;background-color: #343132;color: #ffffff'>Moment of inertia of Molecule 2</div>"
      ],
      "text/plain": [
       "<IPython.core.display.HTML object>"
      ]
     },
     "metadata": {},
     "output_type": "display_data"
    },
    {
     "name": "stdout",
     "output_type": "stream",
     "text": [
      "Perpendicular distance of H atoms from the vertical axis = 82.7 pm\n",
      "Moment of inertia I = 2.291e-47 kg m^2\n"
     ]
    },
    {
     "data": {
      "text/html": [
       "<div style='text-align:center; font-weight: bold; font-size:16px;background-color: #343132;color: #ffffff'>Moment of inertia of Molecule 3</div>"
      ],
      "text/plain": [
       "<IPython.core.display.HTML object>"
      ]
     },
     "metadata": {},
     "output_type": "display_data"
    },
    {
     "name": "stdout",
     "output_type": "stream",
     "text": [
      "Perpendicular distance of H atoms from the vertical axis = 76.2 pm\n",
      "Moment of inertia I = 1.941e-47 kg m^2\n"
     ]
    },
    {
     "data": {
      "text/html": [
       "<div style='text-align:center; font-weight: bold; font-size:16px;background-color: #343132;color: #ffffff'>Moment of inertia of Molecule 4</div>"
      ],
      "text/plain": [
       "<IPython.core.display.HTML object>"
      ]
     },
     "metadata": {},
     "output_type": "display_data"
    },
    {
     "name": "stdout",
     "output_type": "stream",
     "text": [
      "Perpendicular distance of H atoms from the vertical axis = 83.5 pm\n",
      "Moment of inertia I = 2.334e-47 kg m^2\n"
     ]
    }
   ],
   "source": [
    "t4pPC.centerTitle(\"Atomic masses setup\")\n",
    "\n",
    "# Question 1\n",
    "mH = mm.ELEMENTS[\"H\"].isotopes[1].mass\n",
    "mO = mm.ELEMENTS[\"O\"].mass\n",
    "\n",
    "# Question 2\n",
    "MH = mH*u2kg\n",
    "MO = mO*u2kg\n",
    "\n",
    "print(f\"Mass of H = {mH} u = {MH:.3e} kg\")\n",
    "print(f\"Mass of O = {mO} u = {MO:.3e} kg\")\n",
    "\n",
    "t4pPC.centerTitle(\"Moment of inertia of a molecule\")\n",
    "from IPython.display import Math\n",
    "display(Math('$$I = \\sum_{i=1}^{N_\\mathrm{atoms}} m_i x_i^2$$'))\n",
    "display(Math(r\"\\text{where } x_i \\text{ is the perpendicular distance of the atom } i \\text{ from the axis of rotation}\"))\n",
    "\n",
    "t4pPC.centerTitle(\"Moment of inertia of Molecule 1\")\n",
    "rH = 101.0 * m.sin(m.radians(106.0/2))\n",
    "print(f\"Perpendicular distance of H atoms from the vertical axis = {rH:.1f} pm\")\n",
    "I = 2*MH*(rH*1e-12)**2\n",
    "print(f\"Moment of inertia I = {I:.3e} kg m^2\")\n",
    "\n",
    "t4pPC.centerTitle(\"Moment of inertia of Molecule 2\")\n",
    "rH = 105.0 * m.sin(m.radians(104.0/2))\n",
    "print(f\"Perpendicular distance of H atoms from the vertical axis = {rH:.1f} pm\")\n",
    "I = 2*MH*(rH*1e-12)**2\n",
    "print(f\"Moment of inertia I = {I:.3e} kg m^2\")\n",
    "\n",
    "t4pPC.centerTitle(\"Moment of inertia of Molecule 3\")\n",
    "rH = 98.0 * m.sin(m.radians(102.0/2))\n",
    "print(f\"Perpendicular distance of H atoms from the vertical axis = {rH:.1f} pm\")\n",
    "I = 2*MH*(rH*1e-12)**2\n",
    "print(f\"Moment of inertia I = {I:.3e} kg m^2\")\n",
    "\n",
    "t4pPC.centerTitle(\"Moment of inertia of Molecule 4\")\n",
    "rH = 109.0 * m.sin(m.radians(100.0/2))\n",
    "print(f\"Perpendicular distance of H atoms from the vertical axis = {rH:.1f} pm\")\n",
    "I = 2*MH*(rH*1e-12)**2\n",
    "print(f\"Moment of inertia I = {I:.3e} kg m^2\")\n"
   ]
  },
  {
   "cell_type": "markdown",
   "id": "4e573348-57fa-46bc-8318-046669a148d1",
   "metadata": {},
   "source": [
    "## Rotational spectroscopy: KCl molecule, find *J* as a function of &nu; and &Delta;&nu;"
   ]
  },
  {
   "cell_type": "code",
   "execution_count": 7,
   "id": "2853fc23-150d-4c5b-9c2f-50f8de80d057",
   "metadata": {},
   "outputs": [
    {
     "name": "stdout",
     "output_type": "stream",
     "text": [
      "nu1 = 102.907702\n",
      "nu2 = 128.634724\n",
      "Delta_nu = 25.727021\n",
      "nu = 102.907702 m-1. J = 3\n",
      "nu = 128.634724 m-1. J = 4\n",
      "nu = 154.361745 m-1. J = 5\n",
      "nu = 180.088767 m-1. J = 6\n",
      "nu = 205.815788 m-1. J = 7\n",
      "nu = 231.542810 m-1. J = 8\n",
      "nu = 257.269831 m-1. J = 9\n",
      "nu = 282.996852 m-1. J = 10\n",
      "nu = 308.723874 m-1. J = 11\n",
      "nu = 334.450895 m-1. J = 12\n"
     ]
    }
   ],
   "source": [
    "def J(nu, Delta_nu):\n",
    "    return (nu/Delta_nu)-1\n",
    "\n",
    "nu1 = 30.850953e9/c\n",
    "nu2 = 38.563720e9/c\n",
    "Delta_nu = nu2-nu1\n",
    "print(f\"nu1 = {nu1:.6f}\")\n",
    "print(f\"nu2 = {nu2:.6f}\")\n",
    "print(f\"Delta_nu = {Delta_nu:.6f}\")\n",
    "\n",
    "for i in range(0,10):\n",
    "    nu = nu1+i*Delta_nu\n",
    "    print(f\"nu = {nu:.6f} m-1. J = {J(nu,Delta_nu):.0f}\")\n"
   ]
  },
  {
   "cell_type": "code",
   "execution_count": null,
   "id": "11640b94-df80-4959-b986-0a14c584ce07",
   "metadata": {},
   "outputs": [],
   "source": []
  }
 ],
 "metadata": {
  "kernelspec": {
   "display_name": "Python 3 (ipykernel)",
   "language": "python",
   "name": "python3"
  },
  "language_info": {
   "codemirror_mode": {
    "name": "ipython",
    "version": 3
   },
   "file_extension": ".py",
   "mimetype": "text/x-python",
   "name": "python",
   "nbconvert_exporter": "python",
   "pygments_lexer": "ipython3",
   "version": "3.11.10"
  },
  "toc-autonumbering": false,
  "toc-showcode": false,
  "toc-showmarkdowntxt": false,
  "toc-showtags": false
 },
 "nbformat": 4,
 "nbformat_minor": 5
}
