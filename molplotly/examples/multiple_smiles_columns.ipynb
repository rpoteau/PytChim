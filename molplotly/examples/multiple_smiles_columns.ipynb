{
 "cells": [
  {
   "cell_type": "markdown",
   "metadata": {},
   "source": [
    "# An example notebook for looking at data with multiple structures per row"
   ]
  },
  {
   "cell_type": "markdown",
   "metadata": {},
   "source": [
    "## Imports and loading the data"
   ]
  },
  {
   "cell_type": "code",
   "execution_count": null,
   "metadata": {},
   "outputs": [],
   "source": [
    "import pandas as pd\n",
    "import plotly.express as px\n",
    "import numpy as np\n",
    "import molplotly\n",
    "from rdkit import Chem\n",
    "from rdkit.Chem import AllChem"
   ]
  },
  {
   "cell_type": "markdown",
   "metadata": {},
   "source": [
    "The most common use case for seeing multiple structures per row is reaction yield prediction. B.J. Shields et al. released a very nicely structured dataset in their 2021 paper [Bayesian reaction optimization as a tool for chemical synthesis](https://doi.org/10.1038/s41586-021-03213-y), which we will use as an example."
   ]
  },
  {
   "cell_type": "code",
   "execution_count": null,
   "metadata": {},
   "outputs": [],
   "source": [
    "df = pd.read_csv('https://raw.githubusercontent.com/b-shields/edbo/master/experiments/data/aryl_amination/experiment_index.csv',\n",
    "                 index_col=0)\n",
    "df"
   ]
  },
  {
   "cell_type": "markdown",
   "metadata": {},
   "source": [
    "## Data Modelling"
   ]
  },
  {
   "cell_type": "markdown",
   "metadata": {},
   "source": [
    "To see the plotting in action, we first construct a simple regression model using Morgan fingerprints and a Random Forest model."
   ]
  },
  {
   "cell_type": "code",
   "execution_count": null,
   "metadata": {},
   "outputs": [],
   "source": [
    "def constructInputArray(df, columns, encoder):\n",
    "    \"\"\"Construct a numpy array from the provided dataframe columns\n",
    "       using the encoder function.\n",
    "    Args:\n",
    "        df (pd.DataFrame): DataFrame containing the data.\n",
    "        columns (list[str]): Which columns to use for featurizing the data.\n",
    "        encoder (function): Function that transforms data in the provided columns into features.\n",
    "\n",
    "    Returns:\n",
    "        np.ndarray: Featurized data\n",
    "    \"\"\"\n",
    "    encodings = encoder(df, columns)\n",
    "    input_list = []\n",
    "    for col in columns:\n",
    "        tmp_list = [encodings[x] for x in df[col]]\n",
    "        tmp_stacked = np.concatenate(tmp_list)\n",
    "        input_list.append(tmp_stacked)\n",
    "    return np.concatenate(input_list, axis=1)\n",
    "\n",
    "def morganFingerprintEncoder(df, columns):\n",
    "    \"\"\"Read the unique values in the provided columns of the df and return\n",
    "       dictionary of features for each unique value.\n",
    "    Args:\n",
    "        df (pd.DataFrame): DataFrame containing the data.\n",
    "        columns (list[str]): Which columns to use for featurizing the data.\n",
    "\n",
    "    Returns:\n",
    "        dict: Where keys are unique molecules and values are the corresponding Morgan Fingerpritns\n",
    "    \"\"\"\n",
    "    df_slice = df[columns]\n",
    "    unique_vals = np.unique(df_slice.values)\n",
    "    out_dict = {}\n",
    "    for val in unique_vals:\n",
    "        mol = Chem.MolFromSmiles(val)\n",
    "        out_dict[val] = np.asarray(AllChem.GetMorganFingerprintAsBitVect(mol,2,nBits=1024)).reshape(1,-1)\n",
    "    return out_dict"
   ]
  },
  {
   "cell_type": "markdown",
   "metadata": {},
   "source": [
    "Do a random split of the data."
   ]
  },
  {
   "cell_type": "code",
   "execution_count": null,
   "metadata": {},
   "outputs": [],
   "source": [
    "df_train = df.sample(frac=.1)\n",
    "df_test = df.drop(index=df_train.index)\n",
    "smile_cols = ['Aryl_halide_SMILES', 'Additive_SMILES', 'Base_SMILES', 'Ligand_SMILES']\n",
    "X_train = constructInputArray(df_train, smile_cols,\n",
    "                        morganFingerprintEncoder)\n",
    "Y_train = df_train['yield'].values\n",
    "X_test = constructInputArray(df_test, smile_cols,\n",
    "                        morganFingerprintEncoder)"
   ]
  },
  {
   "cell_type": "code",
   "execution_count": null,
   "metadata": {},
   "outputs": [],
   "source": [
    "from sklearn.ensemble import RandomForestRegressor"
   ]
  },
  {
   "cell_type": "markdown",
   "metadata": {},
   "source": [
    "Train the model and get the predictions."
   ]
  },
  {
   "cell_type": "code",
   "execution_count": null,
   "metadata": {},
   "outputs": [],
   "source": [
    "model = RandomForestRegressor()\n",
    "model.fit(X_train, Y_train)"
   ]
  },
  {
   "cell_type": "code",
   "execution_count": null,
   "metadata": {},
   "outputs": [],
   "source": [
    "Y_pred = model.predict(X_test)\n",
    "df_test['yield_pred'] = Y_pred"
   ]
  },
  {
   "cell_type": "markdown",
   "metadata": {},
   "source": [
    "## Data Plotting"
   ]
  },
  {
   "cell_type": "markdown",
   "metadata": {},
   "source": [
    "Now we can use molplotly to see all the components corresponding to each point in the scatter plot! Select the SMILES columns you'd like to plot by choosing from the dropdown menu :)"
   ]
  },
  {
   "cell_type": "code",
   "execution_count": null,
   "metadata": {},
   "outputs": [],
   "source": [
    "fig_scatter = px.scatter(df_test,\n",
    "                         x=\"yield\",\n",
    "                         y=\"yield_pred\",\n",
    "                         title='Regression with many smiles columns!',\n",
    "                         labels={'yield': 'Measured yield',\n",
    "                                 'yield_pred': 'Predicted yield'},\n",
    "                         width=1200,\n",
    "                         height=800)\n",
    "\n",
    "app_scatter = molplotly.add_molecules(fig=fig_scatter,\n",
    "                                      df=df_test,\n",
    "                                    #   smiles_col='Base_SMILES'\n",
    "                                      smiles_col=smile_cols,\n",
    "                                      )\n",
    "\n",
    "# change the arguments here to run the dash app on an external server and/or change the size of the app!\n",
    "app_scatter.run_server(mode='inline', port=8751, height=1000)\n"
   ]
  }
 ],
 "metadata": {
  "interpreter": {
   "hash": "d7f727ec3635ca8303840a62c7afd6aebadc97cd141f34925dbe3385fbcfa499"
  },
  "kernelspec": {
   "display_name": "Python 3.9.7 ('torch_env')",
   "language": "python",
   "name": "python3"
  },
  "language_info": {
   "codemirror_mode": {
    "name": "ipython",
    "version": 3
   },
   "file_extension": ".py",
   "mimetype": "text/x-python",
   "name": "python",
   "nbconvert_exporter": "python",
   "pygments_lexer": "ipython3",
   "version": "3.10.0"
  },
  "orig_nbformat": 4
 },
 "nbformat": 4,
 "nbformat_minor": 2
}
