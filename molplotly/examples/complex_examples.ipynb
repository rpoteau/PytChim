{
 "cells": [
  {
   "cell_type": "markdown",
   "metadata": {},
   "source": [
    "# More complex examples\n",
    "\n",
    "Let's go beyond scatter plots and explore a few other graphs that might be relevant for cheminformatics, hopefully letting you see how `molplotly` could be useful for you when looking through (messy) data!"
   ]
  },
  {
   "cell_type": "markdown",
   "metadata": {},
   "source": [
    "## Imports and Data Loading"
   ]
  },
  {
   "cell_type": "markdown",
   "metadata": {},
   "source": [
    "Import pandas for data manipulation, plotly for plotting, and molplot for visualising structures!"
   ]
  },
  {
   "cell_type": "code",
   "execution_count": null,
   "metadata": {},
   "outputs": [],
   "source": [
    "import pandas as pd\n",
    "import plotly.express as px\n",
    "import molplotly\n"
   ]
  },
  {
   "cell_type": "markdown",
   "metadata": {},
   "source": [
    "Let's load the ESOL dataset from [ESOL: Estimating Aqueous Solubility Directly from Molecular Structure](https://doi.org/10.1021/ci034243x) - helpfully hosted by the [deepchem](https://github.com/deepchem/deepchem) team but also included as `example.csv` in the repo."
   ]
  },
  {
   "cell_type": "code",
   "execution_count": null,
   "metadata": {},
   "outputs": [],
   "source": [
    "# df_esol = pd.read_csv('example.csv')\n",
    "df_esol = pd.read_csv(\n",
    "    'https://raw.githubusercontent.com/deepchem/deepchem/master/datasets/delaney-processed.csv')\n",
    "df_esol['y_pred'] = df_esol['ESOL predicted log solubility in mols per litre']\n",
    "df_esol['y_true'] = df_esol['measured log solubility in mols per litre']\n"
   ]
  },
  {
   "cell_type": "markdown",
   "metadata": {},
   "source": [
    "## 3D Scatter Plots"
   ]
  },
  {
   "cell_type": "markdown",
   "metadata": {},
   "source": [
    "The default coordinates settings don't work with 3D scatter plots so you will need to set `show_coords=False` and manually put in the coordinates into `caption_cols`.\n",
    "\n"
   ]
  },
  {
   "cell_type": "code",
   "execution_count": null,
   "metadata": {},
   "outputs": [],
   "source": [
    "fig_3d = px.scatter_3d(df_esol, \n",
    "                       x=\"y_pred\", \n",
    "                       y=\"y_true\", \n",
    "                       z=\"Molecular Weight\", \n",
    "                       width=1000,\n",
    "                       height=800)\n",
    "\n",
    "app_3d = molplotly.add_molecules(\n",
    "    fig=fig_3d,\n",
    "    df=df_esol,\n",
    "    smiles_col=\"smiles\",\n",
    "    caption_cols=[\"y_pred\", \"y_true\", \"Molecular Weight\"],\n",
    "    show_coords=False,\n",
    ")\n",
    "\n",
    "app_3d.run_server(mode=\"inline\", port=8704, height=850)\n"
   ]
  },
  {
   "cell_type": "markdown",
   "metadata": {},
   "source": [
    "## Strip plots\n",
    "\n",
    "Strip plots are useful for visualising how the same property is distributed between data from different groups. Here I plot how the measured solubility changes with the number of rings on a molecule (it goes down, surprising I know).\n",
    "\n",
    "Violin plots can also useful for this purpose but it's not compatible with `plotly` (see section [\"violin plots\"](#violin)) "
   ]
  },
  {
   "cell_type": "code",
   "execution_count": null,
   "metadata": {},
   "outputs": [],
   "source": [
    "fig_strip = px.strip(df_esol.sort_values('Number of Rings'), # sorting so that the colorbar is sorted!\n",
    "                     x='Number of Rings',\n",
    "                     y='y_true',\n",
    "                     color='Number of Rings',\n",
    "                     labels={'y_true': 'Measured Solubility'},\n",
    "                     width=1000,\n",
    "                     height=800)\n",
    "\n",
    "app_strip = molplotly.add_molecules(fig=fig_strip,\n",
    "                          df=df_esol,\n",
    "                          smiles_col='smiles',\n",
    "                          title_col='Compound ID',\n",
    "                          color_col='Number of Rings',\n",
    "                          caption_transform={'Measured Solubility': lambda x: f\"{x:.2f}\"},\n",
    "                          wrap=True,\n",
    "                          wraplen=25,\n",
    "                          width=150,\n",
    "                          show_coords=True)\n",
    "\n",
    "app_strip.run_server(mode='inline', port=8705, height=850)\n"
   ]
  },
  {
   "cell_type": "markdown",
   "metadata": {},
   "source": [
    "## Scatter Matrices\n",
    "\n",
    "For visualising the relationship between multiple variables at once, use a matrix of scatter plots!\n",
    "\n",
    "Here I've increased the width of the hover box using the `width` parameter because the caption titles were getting long; also I've used `show_coords=False` because $(x, y)$ coordinates for non-trivial scatter plots become messy."
   ]
  },
  {
   "cell_type": "code",
   "execution_count": null,
   "metadata": {},
   "outputs": [],
   "source": [
    "features = ['Number of H-Bond Donors',\n",
    "            'Number of Rings',\n",
    "            'Number of Rotatable Bonds',\n",
    "            'Polar Surface Area']\n",
    "fig_matrix = px.scatter_matrix(df_esol,\n",
    "                               dimensions=features,\n",
    "                               width=1200,\n",
    "                               height=800,\n",
    "                               title='Scatter matrix of molecular properties')\n",
    "\n",
    "app_matrix = molplotly.add_molecules(fig=fig_matrix,\n",
    "                                     df=df_esol,\n",
    "                                     smiles_col='smiles',\n",
    "                                     title_col='Compound ID',\n",
    "                                     caption_cols=features,\n",
    "                                     width=200,\n",
    "                                     show_coords=False)\n",
    "\n",
    "# Only show informative lower triangle\n",
    "fig_matrix.update_traces(diagonal_visible=False, showupperhalf=False)\n",
    "app_matrix.run_server(mode='inline', port=8706, height=1000)\n"
   ]
  },
  {
   "cell_type": "markdown",
   "metadata": {},
   "source": [
    "## Visualising MorganFP PCA components\n",
    "\n",
    "A common way to visualise a molecular dataset is to calculate the morgan fingerprints of the molecules and visualise them in a 2D embedding (eg PCA/t-SNE). In this example I'm going to plot the 2 largest PCA components for ESOL and inspect the data."
   ]
  },
  {
   "cell_type": "markdown",
   "metadata": {},
   "source": [
    "Let's calculate the PCA components first!"
   ]
  },
  {
   "cell_type": "code",
   "execution_count": null,
   "metadata": {},
   "outputs": [],
   "source": [
    "import numpy as np\n",
    "from rdkit import Chem\n",
    "from rdkit.Chem import AllChem, DataStructs\n",
    "from sklearn.decomposition import PCA\n",
    "\n",
    "\n",
    "def smi_to_fp(smi):\n",
    "    fp = AllChem.GetMorganFingerprintAsBitVect(\n",
    "        Chem.MolFromSmiles(smi), 2, nBits=1024)\n",
    "    arr = np.zeros((0,), dtype=np.int8)\n",
    "    DataStructs.ConvertToNumpyArray(fp, arr)\n",
    "    return arr\n",
    "\n",
    "esol_fps = np.array([smi_to_fp(smi) for smi in df_esol['smiles']])\n",
    "pca = PCA(n_components=2)\n",
    "components = pca.fit_transform(esol_fps.reshape(-1, 1024))\n",
    "df_esol['PCA-1'] = components[:, 0]\n",
    "df_esol['PCA-2'] = components[:, 1]\n"
   ]
  },
  {
   "cell_type": "markdown",
   "metadata": {},
   "source": [
    "and now let's look at them!\n",
    "\n",
    "with `molplotly`, it's super easy to see which molecules are where - steroid molecules at the top, alcohols in the bottom left, chlorinated aromatic compounds in the bottom right."
   ]
  },
  {
   "cell_type": "code",
   "execution_count": null,
   "metadata": {},
   "outputs": [],
   "source": [
    "fig_pca = px.scatter(df_esol,\n",
    "                     x=\"PCA-1\",\n",
    "                     y=\"PCA-2\",\n",
    "                     color='y_true',\n",
    "                     title='ESOL PCA of morgan fingerprints',\n",
    "                     labels={'y_true': 'Measured Solubility'},\n",
    "                     width=1200,\n",
    "                     height=800)\n",
    "\n",
    "app_pca = molplotly.add_molecules(fig=fig_pca,\n",
    "                                  df=df_esol.rename(columns={'y_true': 'Measured Solubility'}),\n",
    "                                  smiles_col='smiles',\n",
    "                                  title_col='Compound ID',\n",
    "                                  caption_cols=['Measured Solubility'],\n",
    "                                  caption_transform={'Measured Solubility': lambda x: f\"{x:.2f}\"},\n",
    "                                  color_col='Measured Solubility',\n",
    "                                  show_coords=False)\n",
    "\n",
    "app_pca.run_server(mode='inline', port=8707, height=850)\n"
   ]
  },
  {
   "cell_type": "markdown",
   "metadata": {},
   "source": [
    "## Clustering\n",
    "\n",
    "Let's do some clustering of the ESOL molecules, borrowing useful functions from Pat Walters' excellent blog post on [clustering](http://practicalcheminformatics.blogspot.com/2021/11/picking-highest-scoring-molecules-from.html)."
   ]
  },
  {
   "cell_type": "code",
   "execution_count": null,
   "metadata": {},
   "outputs": [],
   "source": [
    "from rdkit.ML.Cluster import Butina\n",
    "\n",
    "def smi2fp(smi):\n",
    "    fp = AllChem.GetMorganFingerprintAsBitVect(Chem.MolFromSmiles(smi), 2)\n",
    "    return fp\n",
    "\n",
    "\n",
    "def taylor_butina_clustering(fp_list, cutoff=0.35):\n",
    "    dists = []\n",
    "    nfps = len(fp_list)\n",
    "    for i in range(1, nfps):\n",
    "        sims = DataStructs.BulkTanimotoSimilarity(fp_list[i], fp_list[:i])\n",
    "        dists.extend([1-x for x in sims])\n",
    "    mol_clusters = Butina.ClusterData(dists, nfps, cutoff, isDistData=True)\n",
    "    return mol_clusters\n",
    "\n",
    "\n",
    "cluster_res = taylor_butina_clustering(\n",
    "    [smi2fp(smi) for smi in df_esol['smiles']])\n",
    "cluster_id_list = np.zeros(len(df_esol), dtype=int)\n",
    "for cluster_num, cluster in enumerate(cluster_res):\n",
    "    for member in cluster:\n",
    "        cluster_id_list[member] = cluster_num\n",
    "df_esol['cluster'] = cluster_id_list\n"
   ]
  },
  {
   "cell_type": "markdown",
   "metadata": {},
   "source": [
    "Now let's make a strip plot of the top-10 clusters, see what they look like and how soluable they are!"
   ]
  },
  {
   "cell_type": "code",
   "execution_count": null,
   "metadata": {},
   "outputs": [],
   "source": [
    "df_cluster = df_esol.query('cluster < 10').copy().reset_index()\n",
    "# sorting is needed to make the legend appear in order!\n",
    "df_cluster = df_cluster.sort_values('cluster')\n",
    "\n",
    "fig_cluster = px.strip(df_cluster,\n",
    "                      y='y_true',\n",
    "                      color='cluster',\n",
    "                      labels={'y_true': 'Measured Solubility'},\n",
    "                      width=1000,\n",
    "                      height=800)\n",
    "\n",
    "app_cluster = molplotly.add_molecules(fig=fig_cluster,\n",
    "                           df=df_cluster,\n",
    "                           smiles_col='smiles',\n",
    "                           title_col='Compound ID',\n",
    "                           color_col='cluster'\n",
    "                           )\n",
    "\n",
    "app_cluster.run_server(mode='inline', port=8708, height=850)\n"
   ]
  }
 ],
 "metadata": {
  "interpreter": {
   "hash": "4a7e8b3f2f045654a081d27e44f6dfaabc933b24cfce3adb7145add9056666ba"
  },
  "kernelspec": {
   "display_name": "Python 3.7.11 64-bit ('work': conda)",
   "language": "python",
   "name": "python3"
  },
  "language_info": {
   "codemirror_mode": {
    "name": "ipython",
    "version": 3
   },
   "file_extension": ".py",
   "mimetype": "text/x-python",
   "name": "python",
   "nbconvert_exporter": "python",
   "pygments_lexer": "ipython3",
   "version": "3.10.0"
  },
  "orig_nbformat": 4
 },
 "nbformat": 4,
 "nbformat_minor": 2
}
