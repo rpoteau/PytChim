{
 "cells": [
  {
   "cell_type": "markdown",
   "metadata": {},
   "source": [
    "# Incompatible `plotly` functionality with molplotly\n",
    "\n",
    "`Plotly` is a graphing library that does far more than just scatter plots - it has lots of cool functionalities that unfortunately clash with how `molplotly` implements the hover box (for now at least). Here are some examples of known incompatibilities, which are still very useful data visualisations in vanilla `plotly`!"
   ]
  },
  {
   "cell_type": "markdown",
   "metadata": {},
   "source": [
    "## Imports and Data Loading"
   ]
  },
  {
   "cell_type": "markdown",
   "metadata": {},
   "source": [
    "Import pandas for data manipulation, plotly for plotting, and molplot for visualising structures!"
   ]
  },
  {
   "cell_type": "code",
   "execution_count": 1,
   "metadata": {},
   "outputs": [
    {
     "name": "stderr",
     "output_type": "stream",
     "text": [
      "INFO:rdkit:Enabling RDKit 2021.09.4 jupyter extensions\n"
     ]
    }
   ],
   "source": [
    "import pandas as pd\n",
    "import plotly.express as px\n",
    "import molplotly\n"
   ]
  },
  {
   "cell_type": "markdown",
   "metadata": {},
   "source": [
    "Let's load the ESOL dataset from [ESOL: Estimating Aqueous Solubility Directly from Molecular Structure](https://doi.org/10.1021/ci034243x) - helpfully hosted by the [deepchem](https://github.com/deepchem/deepchem) team but also included as `example.csv` in the repo."
   ]
  },
  {
   "cell_type": "code",
   "execution_count": 2,
   "metadata": {},
   "outputs": [],
   "source": [
    "# df_esol = pd.read_csv('example.csv')\n",
    "df_esol = pd.read_csv(\n",
    "    'https://raw.githubusercontent.com/deepchem/deepchem/master/datasets/delaney-processed.csv')\n",
    "df_esol['y_pred'] = df_esol['ESOL predicted log solubility in mols per litre']\n",
    "df_esol['y_true'] = df_esol['measured log solubility in mols per litre']\n"
   ]
  },
  {
   "cell_type": "markdown",
   "metadata": {},
   "source": [
    "## Marginals on scatter plots \n",
    "\n",
    "I like having marginals on the sides by default because the data density in a dataset can often vary a lot. Anything to do with histogram/violin plots don't work yet with `molplotly`."
   ]
  },
  {
   "cell_type": "code",
   "execution_count": null,
   "metadata": {},
   "outputs": [],
   "source": [
    "fig_marginal = px.scatter(df_esol,\n",
    "                 x=\"y_true\",\n",
    "                 y=\"y_pred\",\n",
    "                 title='ESOL Regression (with histogram marginals)',\n",
    "                 labels={'y_pred': 'Predicted Solubility',\n",
    "                         'y_true': 'Measured Solubility'},\n",
    "                 marginal_x='violin',\n",
    "                 marginal_y='histogram',\n",
    "                 width=1200,\n",
    "                 height=800)\n",
    "fig_marginal.show()\n"
   ]
  },
  {
   "cell_type": "markdown",
   "metadata": {},
   "source": [
    "## Violin plots\n",
    "\n",
    "The aesthetic of violin plots are nice, especially when there's a lot of datapoints but if there's not much data (often the case in drug discovery!) then those nice smooth KDE curves can be misleading so I usually prefer strip plots. `plotly` has cool mouseover data on violin plots which are incompatible with `molplotly` but at least if there's enough data that I prefer using a violin plot, it's probably too memory consuming to run a strip plot with `molplotly` anyway!\n",
    "\n",
    "<a name=\"violin\"></a>"
   ]
  },
  {
   "cell_type": "code",
   "execution_count": null,
   "metadata": {},
   "outputs": [],
   "source": [
    "fig_violin = px.violin(df_esol,\n",
    "                       y=\"y_true\",\n",
    "                       title='ESOL violin plot of measured solubility',\n",
    "                       labels={'y_true': 'Measured Solubility'},\n",
    "                       box=True,\n",
    "                       points='all',\n",
    "                       width=1200,\n",
    "                       height=800)\n",
    "fig_violin.show()\n"
   ]
  }
 ],
 "metadata": {
  "interpreter": {
   "hash": "4a7e8b3f2f045654a081d27e44f6dfaabc933b24cfce3adb7145add9056666ba"
  },
  "kernelspec": {
   "display_name": "Python 3.7.11 64-bit ('work': conda)",
   "language": "python",
   "name": "python3"
  },
  "language_info": {
   "codemirror_mode": {
    "name": "ipython",
    "version": 3
   },
   "file_extension": ".py",
   "mimetype": "text/x-python",
   "name": "python",
   "nbconvert_exporter": "python",
   "pygments_lexer": "ipython3",
   "version": "3.10.0"
  },
  "orig_nbformat": 4
 },
 "nbformat": 4,
 "nbformat_minor": 2
}
