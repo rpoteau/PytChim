{
 "cells": [
  {
   "cell_type": "code",
   "execution_count": null,
   "id": "7ba4557b-69e3-43fd-88fa-de5a39cdc712",
   "metadata": {},
   "outputs": [],
   "source": [
    "import os\n",
    "import sys\n",
    "\n",
    "cwd0 = './config/'\n",
    "sys.path.append(cwd0)\n",
    "\n",
    "import visualID_Eng as vID\n",
    "from visualID_Eng import color, fg, bg, hl\n",
    "vID.init(cwd0)\n",
    "import tools4pyPhysChem as t4pPC\n",
    "\n",
    "#cancel the \"last operation show-up\" specific of Jupyter notebooks\n",
    "from IPython.core.interactiveshell import InteractiveShell\n",
    "InteractiveShell.ast_node_interactivity = \"all\"\n",
    "\n",
    "__author__ = \"Iann C. Gerber & Romuald Poteau, LPCNO (INSA-CNRS-UT3 lab, Toulouse, France)\""
   ]
  },
  {
   "cell_type": "markdown",
   "id": "caeb24ff-7769-4d18-80f1-9ced73827103",
   "metadata": {},
   "source": [
    "# Parametrized tight-binding for calculating a material's energy and electronic structure\n",
    "\n",
    "<figure>\n",
    "<img width = \"800px\" src=\"MiscImages/Introductions/TB3.webp\" alt=\"Image TB\" />\n",
    "<figcaption>Image made by R.P. with ChatGPT-4o (OpenAI, 11/2024)</figcaption>\n",
    "</figure> \n",
    "\n",
    "## Introduction\n",
    "\n",
    "### The tight-binding method\n",
    "\n",
    "<div class=\"intro\">\n",
    "    \n",
    "The tight binding (TB) method is an approximate approach for solving for the electronic wave functions for electrons in solids assuming a basis of localized atomic-like orbitals. This model is applicable to a wide variety of systems and phenomena in quantum physics. The approach does not require computing from first principles, but instead simply uses parameterized matrix elements. In contrast to *ab initio* or DFT calculations, the tight-binding model can scale to large system sizes on the order of millions of atoms. \n",
    "\n",
    "TB calculations proposed in this notebook will be done with [**pybinding**](https://docs.pybinding.site/en/stable/). It is a scientific Python package for numerical tight-binding calculations in solid state physics.\n",
    "\n",
    "<figure>\n",
    "<img width = \"200px\" src=\"MiscImages/TB/pb.webp\" alt=\"pybinding logo\" />\n",
    "</figure> \n",
    "\n",
    "The orbitals are assumed to be orthonormal, pybinding focuses on the “empirical tight binding” approach in which the Hamiltonian matrix elements are simply parametrized.\n",
    "</div>\n",
    "<br>\n",
    "<div class=\"rq\">\n",
    "\n",
    "This package actually does simple Hückel calculations, but with periodic boundary conditions. It can also do molecular calculations. The Hückel electron-hopping parameter, named $\\beta$ in the chemistry realm, is often referred to as $t$ in solid-state physics, $t$ meaning *transfer*. It is also called the bond energy or two center integral and it is the dominant term in the tight binding model.\n",
    "</div>\n",
    "\n",
    "### The band structure of solids and the Fermi level\n",
    "\n",
    "<div class=\"intro\">\n",
    "\n",
    "Before playing with a TB package, it is necessary to remind that in the [band theory of solids](https://en.wikipedia.org/wiki/Fermi_level), electrons are considered to occupy a series of bands composed of single-particle energy eigenstates each labelled by &varepsilon;. Although this single particle picture is an approximation, it greatly simplifies the understanding of electronic behaviour and it generally provides correct results when applied correctly.\n",
    "\n",
    "The Fermi–Dirac distribution gives the probability that, at thermodynamic equilibrium, a state having energy &varepsilon; is occupied by an electron:\n",
    "\n",
    "$$f(\\epsilon)=\\frac{1}{1+\\exp\\left(\\frac{\\epsilon-\\mu}{k_{\\mathrm{B}}T}\\right)}$$\n",
    "\n",
    "where *k*<sub>B</sub> is the Boltzmann constant, *T* is the absolute temperature and *&mu;* is the total chemical potential.\n",
    "\n",
    "At finite temperatures there is no sharply defined most energetic electron because thermal energy is continuously exciting electrons within the bands. It is possible to define an energy level with an arbitrary 50% probability of occupation, and this is the Fermi level, sometimes called Fermi energy, whereas the actual Fermi energy is defined at *T*=0K. Some examples are reported below, for different materials. \n",
    "\n",
    "<figure>\n",
    "  <img width = \"600px\" src=\"MiscImages/TB/Band_filling_diagram.svg\" alt=\"band structure of solids\" />\n",
    "  <figcaption><b>Density of states and filling of the electronic states in various types of materials at equilibrium at <i>T</i> &ne; 0K</b><br>(from <a href=\"https://en.wikipedia.org/wiki/Fermi_level\">Wikipedia</a>)</figcaption>\n",
    "</figure>\n",
    "\n",
    "</div>\n",
    "\n"
   ]
  },
  {
   "cell_type": "markdown",
   "id": "a42c54f9-b42c-4f07-b68e-05f0f6705375",
   "metadata": {},
   "source": [
    "## Doing a TB calculation with pybinding: workflow\n",
    "\n",
    "<div class=\"intro\">\n",
    "\n",
    "The general workflow starts with the definition of a model. The crystal lattice and the system geometry are the two main main parts required to describe a tight-binding model.\n",
    "\n",
    "Once the model description is complete, pybinding will build the tight-binding Hamiltonian matrix. The next step is to apply computations to the matrix to obtain the values of the desired quantum properties. To that end, there are the following possibilities: Kernel polynomial method, exact diagonalization, or a user-defined solver\n",
    "\n",
    "After the main computation is complete, various utility functions are available for post-processing the raw result data. The included plotting functions are tailored for tight-binding problems to help visualize the model structure and to make sense of the results\n",
    "\n",
    "</div>"
   ]
  },
  {
   "cell_type": "markdown",
   "id": "9c645c63-ea96-4e9c-969c-79474779c8f8",
   "metadata": {},
   "source": [
    "### Lattice and geometry specification\n",
    "\n",
    "<div class=\"introT\" title=\"The crystal lattice\">\n",
    "\n",
    "This step includes the specification of the primitive lattice vectors and the configuration of the unit cell (atoms, orbitals, TB parameters and spins). This can be user-defined, but the package also contains a repository of the pre-made specifications for several materials.\n",
    "</div>\n",
    "<br>\n",
    "<div class=\"introT\" title=\"System geometry\">\n",
    "\n",
    "The model system can be infinite through the use of translational symmetry or it can be finite by specifying a shape. \n",
    "</div>"
   ]
  },
  {
   "cell_type": "markdown",
   "id": "9f9064e8-b729-41fa-8274-e9d3df27a20c",
   "metadata": {},
   "source": [
    "<div class=\"rqT\" title=\"first install the development version of the pybinding package\">\n",
    "\n",
    "It can be done with pip. Uncomment the next line the first time you use this notebook\n",
    "</div>"
   ]
  },
  {
   "cell_type": "code",
   "execution_count": null,
   "id": "55a17e64-8608-43d4-99d4-4a77f8a46682",
   "metadata": {},
   "outputs": [],
   "source": [
    "# %pip install pybinding-dev"
   ]
  },
  {
   "cell_type": "code",
   "execution_count": null,
   "id": "4a9819ed-fccb-4d53-9a2e-101a1de70586",
   "metadata": {},
   "outputs": [],
   "source": [
    "import pybinding as pb\n",
    "import numpy as np\n",
    "import matplotlib.pyplot as plt\n",
    "\n",
    "pb.pltutils.use_style() # applies pybinding’s default style settings for matplotlib\n",
    "\n",
    "d = 0.1  # [nm] unit cell length\n",
    "t = -1   # [eV] hopping energy\n",
    "\n",
    "# create a simple 1D lattice with vector a1\n",
    "lattice = pb.Lattice(a1=[d, 0], a2=[0, d])\n",
    "lattice.add_sublattices(\n",
    "    ('A', [0, 0], 0.)  # add an atom called 'A' at position [0, 0] and set its associated AO energy to 0 eV\n",
    ")\n",
    "lattice.add_hoppings(\n",
    "    # (Difference of the indices of the source and destination unit cells\n",
    "    # Name of the sublattice in the source unit cell, Name of the sublattice in the destination unit cell, hopping energy)\n",
    "    ([0, 1], 'A', 'A', t),\n",
    "    ([1, 0], 'A', 'A', t)\n",
    ")"
   ]
  },
  {
   "cell_type": "markdown",
   "id": "568f1f89-a1b4-495d-bde1-4fe8034dfeb9",
   "metadata": {},
   "source": [
    "<div class=\"rq\"'>\n",
    "    \n",
    "It may not be immediately obvious what this code does. Fortunately, [`Lattice`](http://docs.pybinding.site/page/tutorial/../_api/pybinding.Lattice.html#pybinding.Lattice) objects have a convenient [`Lattice.plot()`](http://docs.pybinding.site/page/tutorial/../_api/pybinding.Lattice.html#pybinding.Lattice.plot) method to easily visualize the constructed lattice.\n",
    "</div>"
   ]
  },
  {
   "cell_type": "code",
   "execution_count": null,
   "id": "c7390f6e-6575-4824-8272-013e68af67f0",
   "metadata": {},
   "outputs": [],
   "source": [
    "lattice.plot()  # plot the lattice that was just constructed\n",
    "plt.show()      # standard matplotlib show() function"
   ]
  },
  {
   "cell_type": "markdown",
   "id": "3ee16263-55b8-4677-9678-506e46c67381",
   "metadata": {},
   "source": [
    "<div class=\"rq\">\n",
    "\n",
    "In the figure we see lattice vectors $a_1$ and $a_2$ which were used to initialize [`Lattice`](http://docs.pybinding.site/page/tutorial/../_api/pybinding.Lattice.html#pybinding.Lattice). These vectors describe a Bravais lattice with an infinite set of positions,\n",
    "\n",
    "$$\n",
    "\\vec{R} = n_1 \\vec{a}_1 + n_2 \\vec{a}_2,\n",
    "$$\n",
    "\n",
    "where $n_1$ and $n_2$ are integers. The blue circle labeled A represents the atom which was created with the [`Lattice.add_sublattices()`](http://docs.pybinding.site/page/tutorial/../_api/pybinding.Lattice.html#pybinding.Lattice.add_sublattices) method. The slightly faded out circles represent translations of the lattice in the primitive vector directions, i.e. using the integer index $[n_1, n_2]$.\n",
    "\n",
    "The hoppings are specified using the [`Lattice.add_hoppings()`](http://docs.pybinding.site/page/tutorial/../_api/pybinding.Lattice.html#pybinding.Lattice.add_hoppings) method and each one consists of `(relative_index, from_sublattice, to_sublattice, energy)`:\n",
    "\n",
    "* The main cell always has the index $[n_1, n_2]$ = [0, 0]. The `relative_index` represents the number of integer steps needed to reach another cell starting from the main one. Each cell is labeled with its `relative_index`, as seen in the figure.\n",
    "  \n",
    "* A hopping is created between the main cell and a neighboring cell specified by `relative_index`. Two hoppings are added in the definition: [0, 1] and [1, 0].\n",
    "\n",
    "* The opposite hoppings [0, -1] and [-1, 0] are added automatically to maintain translational symmetry.\n",
    "  \n",
    "* This lattice consists of only one sublattice so the `from` and `to` sublattice fields are trivial. Generally, `from_sublattice` indicates the sublattice in the [0, 0] cell and `to_sublattice` in the neighboring cell. This will be explained further in the next example.\n",
    "  \n",
    "* The last parameter is simply the value of the hopping energy.\n",
    "  \n",
    "It’s good practice to build the lattice inside a function to make it easily reusable. Here we define the same lattice as before, but note that the unit cell length and hopping energy are function arguments, which makes the lattice easily configurable.\n",
    "</div>\n",
    "<br>\n",
    "<div class=\"intro\">\n",
    "\n",
    "The defined square is the primitive of the tetragonal 2D [Bravais lattice](https://en.wikipedia.org/wiki/Bravais_lattice), see figure below (*a* = *b* and &theta; = 90°). Let's recall that a primitive cell is a unit cell that contains exactly one lattice point. \n",
    "<img width=\"150\" src=\"./MiscImages/TB/SQL.svg\" style=\"display:block; margin-left:auto; margin-right:auto\" id=\"SQL\"/> \n",
    "\n",
    "This is the case here, since each atom is shared by 4 cells, it is counted as 1/4. 4 atoms x 1/4 = 1.\n",
    " \n",
    "</div>"
   ]
  },
  {
   "cell_type": "markdown",
   "id": "ee25c857-8a7a-47fe-abf8-3336a0fe1fa4",
   "metadata": {},
   "source": [
    "<div class=\"intro\">\n",
    "\n",
    "It is even possible to plot the **[Brillouin zone](https://en.wikipedia.org/wiki/Brillouin_zone)**. The [reciprocal lattice vectors](https://en.wikipedia.org/wiki/Reciprocal_lattice) **b<sub>1</sub>** and **b<sub>2</sub>** are calculated automatically based on the real space vectors. There is no need to specify them manually. The first Brillouin zone is determined as the Wigner–Seitz cell in reciprocal space. By default, the plot method labels the vertices of the Brillouin zone.\n",
    "</div>"
   ]
  },
  {
   "cell_type": "code",
   "execution_count": null,
   "id": "9b1f8f91-11cb-413e-9889-729d8430898e",
   "metadata": {},
   "outputs": [],
   "source": [
    "lattice.plot_brillouin_zone()"
   ]
  },
  {
   "cell_type": "markdown",
   "id": "c7280b2e-5165-4a84-b11d-3d11641e5556",
   "metadata": {},
   "source": [
    "### Setting up a band structure calculation\n",
    "\n",
    "<div class=\"intro\">\n",
    "\n",
    "In order to calculate the band structure of a crystal lattice, this section introduces the concepts of a [`Model`](http://docs.pybinding.site/page/tutorial/../_api/pybinding.Model.html#pybinding.Model) and a [`Solver`](http://docs.pybinding.site/page/tutorial/../_api/pybinding.solver.html#pybinding.solver.Solver).\n",
    "\n",
    "A [`Model`](http://docs.pybinding.site/page/tutorial/../_api/pybinding.Model.html#pybinding.Model) contains the full tight-binding description of the physical system that we wish to solve. We’ll now assign the previous lattice to the model.\n",
    "</div>\n",
    "\n",
    "#### Definition of the model"
   ]
  },
  {
   "cell_type": "code",
   "execution_count": null,
   "id": "dff311fc-4da3-4ba5-93aa-fad356f42e51",
   "metadata": {},
   "outputs": [],
   "source": [
    "model = pb.Model(\n",
    "    lattice,  # predefined lattice from the material repository\n",
    ")\n",
    "\n",
    "model.hamiltonian\n",
    "model.plot()"
   ]
  },
  {
   "cell_type": "markdown",
   "id": "56acb93e-66f9-4cca-9a74-0b2c58c09eab",
   "metadata": {},
   "source": [
    "<div class=\"rq\">\n",
    "\n",
    "It’s a sparse matrix (see [`scipy.sparse.csr_matrix`](https://docs.scipy.org/doc/scipy/reference/generated/scipy.sparse.csr_matrix.html#scipy.sparse.csr_matrix)) which corresponds to the tight-binding Hamiltonian of our model. The output above shows the default sparse representation of the data where each line corresponds to `(row, col) value`. Alternatively, we can see the dense matrix output:\n",
    "</div>"
   ]
  },
  {
   "cell_type": "code",
   "execution_count": null,
   "id": "e4d46d52-18f1-4f02-99ca-f920da721c3f",
   "metadata": {},
   "outputs": [],
   "source": [
    "model.hamiltonian.todense()"
   ]
  },
  {
   "cell_type": "markdown",
   "id": "e57a0a84-6b26-46f2-a0bb-efbbd1a4fc9e",
   "metadata": {},
   "source": [
    "<div class=\"introT\" title=\"Set up of an infinite 2D sheet\">\n",
    "\n",
    "Next, we include [`translational_symmetry()`](http://docs.pybinding.site/page/tutorial/../_api/pybinding.translational_symmetry.html#pybinding.translational_symmetry) to create an infinite graphene sheet.\n",
    "</div>"
   ]
  },
  {
   "cell_type": "code",
   "execution_count": null,
   "id": "9b039873-7c98-4a76-91d9-cb6c58d08841",
   "metadata": {},
   "outputs": [],
   "source": [
    "model = pb.Model(\n",
    "    lattice,\n",
    "    pb.translational_symmetry()\n",
    ")\n",
    "model.plot()"
   ]
  },
  {
   "cell_type": "markdown",
   "id": "5d66a5ef-560f-454c-ab6f-6e711830cb95",
   "metadata": {},
   "source": [
    "<div class=\"rq\">\n",
    "\n",
    "The red lines indicate hoppings on periodic boundaries. The lighter colored circles represent the translations of the unit cell. The number of translations is infinite, but the plot only presents the first one in each lattice vector direction.\n",
    "\n",
    "In the figure above, notice that 4 translations of the unit cell are presented and it appears as if 4 atoms are missing. This is only in appearance. By default, `model.plot()` shows just the first-nearest translations of the unit cell\n",
    "</div>"
   ]
  },
  {
   "cell_type": "markdown",
   "id": "bd4449be-ee39-4b96-9fec-f3a01b8759f5",
   "metadata": {},
   "source": [
    "#### Solver\n",
    "\n",
    "<div class=\"intro\">\n",
    "\n",
    "A [`Solver`](http://docs.pybinding.site/page/tutorial/../_api/pybinding.solver.html#pybinding.solver.Solver) can exactly calculate the eigenvalues and eigenvectors of a Hamiltonian matrix. Although there are various [Eigenvalue solvers](http://docs.pybinding.site/page/tutorial/solvers.html) in pybinding, right now we’ll just use the [`lapack()`](http://docs.pybinding.site/page/tutorial/../_api/pybinding.solver.html#pybinding.solver.lapack) solver which is the simplest and most appropriate for small systems.\n",
    "\n",
    "A great advantage of this solver is that it always solves for **all** eigenvalues and eigenvectors of a Hamiltonian matrix.\n",
    "</div>"
   ]
  },
  {
   "cell_type": "code",
   "execution_count": null,
   "id": "f94b9049-08f9-46cf-b4cb-52a6d2dc5cc7",
   "metadata": {},
   "outputs": [],
   "source": [
    "solver = pb.solver.lapack(model)\n",
    "eigenvalues = solver.calc_eigenvalues()\n",
    "eigenvectors = solver.eigenvectors\n",
    "\n",
    "eigenvalues\n",
    "eigenvectors\n",
    "\n",
    "eigenvalues.plot()"
   ]
  },
  {
   "cell_type": "markdown",
   "id": "beed5610-b563-464f-b87e-610ad4689297",
   "metadata": {},
   "source": [
    "## Useful functions to enhance the capabilities of pybinding"
   ]
  },
  {
   "cell_type": "code",
   "execution_count": null,
   "id": "f92cc635-4a78-4673-89f3-47e7a8bd2c52",
   "metadata": {},
   "outputs": [],
   "source": [
    "from pathlib import Path\n",
    "\n",
    "saveFig_path = Path() / \"FiguresCreatedInNotebooks/TB\"\n",
    "saveFig_path_dev = Path() / \"FiguresCreatedInNotebooks/TB-dev\"\n",
    "saveFig_path.mkdir(parents=True, exist_ok=True)\n",
    "saveFig_path_dev.mkdir(parents=True, exist_ok=True)\n",
    "\n",
    "def save_fig(fig_id, IMAGES_PATH=\"./\", tight_layout=True, fig_extension=\"png\", resolution=300):\n",
    "    '''\n",
    "    saves a figure to a given subfolder, that will be created if it does not exist\n",
    "    input:\n",
    "        - fig_id = name of the figure, without an extension\n",
    "        - IMAGES_PATH = pathway to the folder. Default: \".\"\n",
    "        - tight_layout = boolean. Automatically adjusts subplot params so that the subplot(s) fits in to the figure area. Default: True\n",
    "        - fig_extension = image type. Default: png\n",
    "        - resolution = resolution of the figure, in dpi. Default: 300\n",
    "    '''\n",
    "    path = IMAGES_PATH / f\"{fig_id}.{fig_extension}\"\n",
    "    if tight_layout:\n",
    "        plt.tight_layout()\n",
    "    plt.savefig(path, format=fig_extension, dpi=resolution, transparent=True)\n",
    "    return"
   ]
  },
  {
   "cell_type": "code",
   "execution_count": null,
   "id": "f5f787bd-c6ed-4182-b01d-67310af31027",
   "metadata": {},
   "outputs": [],
   "source": [
    "def lorentzian(v, v0, I, w):\n",
    "    import numpy as np\n",
    "    \"\"\"\n",
    "    A lorentzian function that takes linewidth at half intensity (w) as a\n",
    "    parameter.\n",
    "    Input:\n",
    "        - v: Array of values at which to evaluate distribution\n",
    "        - v0: Center of the distribution (= position of the peak)\n",
    "        - I: intensity of the peak\n",
    "        - w: Peak width at half max intensity\n",
    "\n",
    "    Returns: Lorentzian distribution evaluated at points in v\n",
    "    \"\"\"\n",
    "    return I * ((w/2.0) / ((w/2.0)**2 + (v - v0)**2)) / np.pi\n",
    "\n",
    "def gaussian(x, mu, I, w):\n",
    "    \"\"\"\n",
    "    A gaussian function that takes linewidth at half intensity (sig) as a parameter.\n",
    "    Input:\n",
    "        - x: array of values at which to evaluate distribution\n",
    "        - mu: center of the distribution (= position of the peak)\n",
    "        - I: intensity of the peak\n",
    "        - w: peak width at half max intensity\n",
    "\n",
    "    Returns: Gaussian distribution evaluated at points in x\n",
    "    \"\"\"\n",
    "    import numpy as np\n",
    "    sig = w / (2.0 * np.sqrt(2.0*np.log(2.0))) \n",
    "    return I / (np.sqrt(2.0 * np.pi) * sig) * np.exp(-((x - mu) / sig)**2 / 2.0)\n",
    "\n",
    "def sum_signals(linspace, peaklist, w, broadening):\n",
    "    \"\"\"\n",
    "    Given a numpy linspace a spectrum as a list of (frequency, intensity)\n",
    "    tuples, and a linewidth, returns an array of y coordinates for the\n",
    "    lineshape.\n",
    "    Input:\n",
    "        - linspace: a numpy linspace of x coordinates for the lineshape.\n",
    "        - peaklist: a list of (frequency, intensity) tuples\n",
    "        - w: peak width at half maximum intensity\n",
    "        - broadening (string): returns a 'Gaussian' distribution\n",
    "                      otherwise returns a 'Lorentzian' distribution\n",
    "\n",
    "    Returns: array of y coordinates for the lineshape\n",
    "    \"\"\"\n",
    "    result = np.zeros(len(linspace))\n",
    "    for p in peaklist:\n",
    "        if broadening == 'Gaussian':\n",
    "            result += gaussian(linspace, p, 1.0, w)\n",
    "        elif broadening == 'Lorentzian':\n",
    "            result += lorentzian(linspace, p, 1.0, w)\n",
    "        else:\n",
    "            print(\"No broadening???\")\n",
    "    return result\n",
    "\n",
    "def norm(V):\n",
    "    '''\n",
    "    Calculates the norm of a vector\n",
    "    Input:\n",
    "        - V = numpy array with 3 values\n",
    "    Returns:\n",
    "        - the norm of V\n",
    "    '''\n",
    "    return np.sqrt(V[0]**2 + V[1]**2 + V[2]**2)\n",
    "\n",
    "def MK(reciprocal_vectors,nmesh_k):\n",
    "\n",
    "    normb1 = norm(reciprocal_vectors[0])\n",
    "    nb1 = np.linspace(1, nmesh_k[0], nmesh_k[0])\n",
    "    kb1 = (2*nb1 - nmesh_k[0] - 1) / nmesh_k[0]\n",
    "    if (reciprocal_vectors.shape[0] == 1):\n",
    "        kx_grid = normb1 * kb1\n",
    "        normb2 = 0\n",
    "        ky_grid = [0]\n",
    "    else:\n",
    "        normb2 = norm(reciprocal_vectors[1])\n",
    "        nb2 = np.linspace(1, nmesh_k[1], nmesh_k[1])\n",
    "        kb2 = (2*nb2 - nmesh_k[1] - 1) / nmesh_k[1]\n",
    "        kx_grid = kb1 * reciprocal_vectors[0][0] + kb2 * reciprocal_vectors[1][0]\n",
    "        ky_grid = kb1 * reciprocal_vectors[0][1] + kb2 * reciprocal_vectors[1][1]\n",
    "    return kx_grid, ky_grid, normb1, normb2\n",
    "\n",
    "def plot_kdosMP(solver, lattice, nmesh_k = (250,250), nmesh_E = 1000,\n",
    "                broadening = 'Gaussian', HWHM = 0.2, saveFig_path=\".\",FigName=None):\n",
    "    '''\n",
    "    Calculates and then plots the density of states.\n",
    "    First solves the model on a k-point mesh\n",
    "    An then broadens the energy levels with a Gaussian or a Lorentzian function\n",
    "    Input: \n",
    "        - solver = pybinding solver instance\n",
    "        - lattice = pybinding lattice of the model\n",
    "        - nmesh_k = tuple that defines the number of kpoints in each dimension\n",
    "        - nmesh_E = resolution of the energy for the DOS plot\n",
    "        - broadening = 'Gaussian' or 'Lorentzian'\n",
    "        - HWHM = half-width at half-maximum of the Lorentzian or Gaussian broadening function\n",
    "        - saveFig_path = pathway where to save the DOS plot \n",
    "        - Figname = name of the DOS graphic output file \n",
    "    Output:\n",
    "        - DOS plot, E = f(DOS)\n",
    "        - integrated DOS between -oo and +oo\n",
    "    Saves :\n",
    "        - a Figname.png file if this variable is not None (the default)\n",
    "    '''\n",
    "\n",
    "    from scipy.integrate import simpson\n",
    "    import numpy as np\n",
    "\n",
    "    reciprocal_vectors = np.array(lattice.reciprocal_vectors())\n",
    "\n",
    "    if (reciprocal_vectors.shape[0] == 2):\n",
    "        print(f\"{fg.RED}{hl.BOLD}Please wait. The DOS calculation can take time for 2D systems{hl.OFF}\")\n",
    "\n",
    "    # kpoints. Monkhsor-Pack mesh\n",
    "    kb1_grid, kb2_grid, normb1, normb2 = MK(reciprocal_vectors,nmesh_k)\n",
    "    \n",
    "    norm = np.array([normb1, normb2])\n",
    "    for i, v in enumerate(reciprocal_vectors):\n",
    "        print(f\"b{i+1:1d} = {np.array2string(v, formatter={'float_kind':'{:8.2f}'.format})}. Norm = {norm[i]:.1f} nm-1\")\n",
    "\n",
    "    bands = []\n",
    "    for kb1 in kb1_grid:\n",
    "        for kb2 in kb2_grid:\n",
    "            solver.set_wave_vector([kb1,kb2])\n",
    "            bands.append(solver.eigenvalues)\n",
    "    bands = np.array(bands)\n",
    "    bands = np.sort(bands, axis=None)\n",
    "    Emin = min(bands)\n",
    "    Emax = max(bands)\n",
    "    Egrid = np.linspace(Emin-1, Emax+1, nmesh_E)\n",
    "    nkp = len(kb1_grid) * len(kb2_grid)\n",
    "    print(f\"Number of k-points = {nkp} ({nmesh_k[0]} x {nmesh_k[1]} grid)\")   \n",
    "    dos = sum_signals(Egrid,bands,HWHM,broadening=\"Gaussian\")\n",
    "    dos = dos / nkp\n",
    "    max_dos = max(dos)\n",
    "\n",
    "    fig, ax = plt.subplots()\n",
    "    _ = ax.plot(dos, Egrid, lw = 2, color='#2c8586')\n",
    "    _ = ax.set_xlabel(\"DOS\")\n",
    "    _ = ax.set_ylabel(\"E / eV\")\n",
    "    _ = ax.set_xlim(0.,max_dos*1.1)\n",
    "    # _ = ax.set_xticks([])\n",
    "    plt.tight_layout()\n",
    "    if FigName is not None:\n",
    "        save_fig(FigName, saveFig_path)\n",
    "    plt.show()\n",
    "    I = simpson(dos,x=Egrid)\n",
    "    print(f\"Integral of the DOS between -oo and +oo = {I:.0f} state(s)\")\n",
    "    return\n"
   ]
  },
  {
   "cell_type": "markdown",
   "id": "0ab25213-d968-4c91-8107-16570d5cd5c5",
   "metadata": {},
   "source": [
    "<div class=\"rqT\" title=\"Lorentzian shape vs Gaussian shape?\">\n",
    "\n",
    "Gaussian and Lorentzian functions play extremely important roles in science. their general mathematical expressions are given by:\n",
    "\n",
    "$$\\mathcal{G}(x)=\\frac{1}{\\sigma\\sqrt{2\\pi}}\\exp\\left(-\\frac{(x-x_{0})^{2}}{2\\sigma^{2}}\\right)$$\n",
    "\n",
    "$$\\mathcal{L}(x)=\\frac{1}{\\pi}\\frac{\\frac{1}{2}w}{(x-x_{0})^{2}+\\left(\\frac{1}{2}w\\right)^{2}}$$\n",
    "\n",
    "where *x*<sub>0</sub> is the center of each function.\n",
    "- *w* is a parameter that directly specifies the full width at half maximum (FWHM) of the $\\mathcal{L}(x)$ function\n",
    "- *&sigma;* in the $\\mathcal{G}(x)$ expression is related to the FWHM value *w* by the relationship $w=2\\sigma\\sqrt{2\\ln2}$\n",
    "</div>"
   ]
  },
  {
   "cell_type": "code",
   "execution_count": null,
   "id": "eb72ee29-49dd-45fc-942b-f943370f679d",
   "metadata": {},
   "outputs": [],
   "source": [
    "peak = [0.0]\n",
    "x = np.linspace(-3,3,3000)\n",
    "width=0.05\n",
    "yG = sum_signals(x, peak, width, 'Gaussian')\n",
    "_ = plt.plot(x,yG,label=f\"Gaussian. Width={width}\")\n",
    "yL = sum_signals(x, peak, width, 'Lorentzian')\n",
    "_ = plt.plot(x,yL,label=f\"Lorentzian. Width={width}\")\n",
    "_ = plt.legend()\n",
    "_ = plt.xlim(-0.3,0.3)\n",
    "_ = plt.show()\n",
    "from scipy.integrate import simpson\n",
    "print(f\"Gaussian. Integral = {simpson(yG,x=x)}\")\n",
    "print(f\"Lorentzian. Integral = {simpson(yL,x=x)}\")\n"
   ]
  },
  {
   "cell_type": "markdown",
   "id": "eb257a7b-0d19-4d56-9c14-974fa8fee058",
   "metadata": {},
   "source": [
    "<div class=\"exE\">\n",
    "\n",
    "Plot the $\\mathcal{G}(x)$ function with the parameters:\n",
    "- *x*<sub>0</sub> = 3\n",
    "- *w* = 1.0\n",
    "\n",
    "Plot the $\\mathcal{L}(x)$ function on the same graph, with:\n",
    "- *x*<sub>0</sub> = 1\n",
    "- *w* = 0.5\n",
    "\n",
    "Calculate the integral of both functions. Comment on the result\n",
    "</div>"
   ]
  },
  {
   "cell_type": "code",
   "execution_count": null,
   "id": "48b4c3d9-a9d8-41f7-a930-44b27b30d40a",
   "metadata": {},
   "outputs": [],
   "source": [
    "# insert your code here\n",
    "\n"
   ]
  },
  {
   "cell_type": "markdown",
   "id": "f87ed025-8a3b-4478-952a-18856aec40c7",
   "metadata": {},
   "source": [
    "<div class=\"sol\">\n",
    "\n",
    "Want to see a possible answer? Uncomment the `# %load ./SolutionsToExercises/...` command below, and then run the cell\n",
    "</div>"
   ]
  },
  {
   "cell_type": "code",
   "execution_count": null,
   "id": "ad8d86b1-da07-4626-8976-63a0038a9821",
   "metadata": {},
   "outputs": [],
   "source": [
    "# %load ./SolutionsToExercises/TB/G_vs_L.py"
   ]
  },
  {
   "cell_type": "markdown",
   "id": "5fd8455a-ab06-41b1-bf79-d7ed68060874",
   "metadata": {},
   "source": [
    "## Infinite chain of equally spaced H atoms\n",
    "\n",
    "### \"Equilibrium\" lattice parameters\n",
    "\n",
    "#### Definition of the model"
   ]
  },
  {
   "cell_type": "code",
   "execution_count": null,
   "id": "6c5d27c6-6a86-436f-a7ea-bc6ca8bca360",
   "metadata": {},
   "outputs": [],
   "source": [
    "import pybinding as pb\n",
    "import numpy as np\n",
    "import matplotlib.pyplot as plt\n",
    "\n",
    "pb.pltutils.use_style() # applies pybinding’s default style settings for matplotlib\n",
    "\n",
    "def Hchain_lattice(a=0.1,t=-1.0):\n",
    "    # create a simple 1D lattice with vector a1\n",
    "    lattice = pb.Lattice(a)\n",
    "    lattice.add_one_sublattice('H', [0])\n",
    "    lattice.add_one_hopping([1], 'H', 'H', t)\n",
    "    return lattice\n",
    "    \n",
    "aH = 0.1   # [nm] unit cell length\n",
    "tH = -1.0   # [eV] hopping energy\n",
    "\n",
    "Hlattice = Hchain_lattice(aH,tH)\n",
    "\n",
    "# single atom definition cannot be plotted\n",
    "# Hlattice.plot()  # plot the lattice that was just constructed\n",
    "# plt.show()      # standard matplotlib show() function\n",
    "Hlattice.plot_brillouin_zone()\n",
    "plt.show()\n",
    "\n",
    "Hmodel = pb.Model(\n",
    "    Hlattice,\n",
    "    pb.translational_symmetry()\n",
    ")\n",
    "Hmodel.plot()\n",
    "plt.show()"
   ]
  },
  {
   "cell_type": "markdown",
   "id": "40b9f7f3-cafb-4bb3-b5d8-b1abf0c0bfed",
   "metadata": {},
   "source": [
    "#### Diagonalization of the hamiltonian"
   ]
  },
  {
   "cell_type": "code",
   "execution_count": null,
   "id": "ac01b1ce-415f-419a-a056-1bf68b932d6b",
   "metadata": {},
   "outputs": [],
   "source": [
    "Hmodel.hamiltonian\n",
    "Hsolver = pb.solver.lapack(Hmodel)\n",
    "eigenvalues = Hsolver.calc_eigenvalues()\n",
    "eigenvectors = Hsolver.eigenvectors\n",
    "\n",
    "eigenvalues\n",
    "eigenvectors"
   ]
  },
  {
   "cell_type": "markdown",
   "id": "48bd5d5d-34b6-4fc2-acff-4d2bad557149",
   "metadata": {},
   "source": [
    "#### Band structure calculation and plot"
   ]
  },
  {
   "cell_type": "code",
   "execution_count": null,
   "id": "1287169f-28da-48c0-a6e8-e62702bbda4c",
   "metadata": {},
   "outputs": [],
   "source": [
    "from math import pi\n",
    "\n",
    "Gamma = [0, 0]\n",
    "X = [pi/aH, 0]\n",
    "kpoints_labels = [f'$\\Gamma$', 'X']\n",
    "Hbands = Hsolver.calc_bands(Gamma, X)\n",
    "\n",
    "Hbands.plot_kpath(point_labels=kpoints_labels)"
   ]
  },
  {
   "cell_type": "code",
   "execution_count": null,
   "id": "20124dab-be0e-4fcf-8371-d3cbb33511a9",
   "metadata": {},
   "outputs": [],
   "source": [
    "Hbands.plot(point_labels=kpoints_labels)"
   ]
  },
  {
   "cell_type": "markdown",
   "id": "91b5f7fe-ed78-43a0-bf32-50e8f44fc691",
   "metadata": {},
   "source": [
    "<div class=\"rq\">\n",
    "\n",
    "This is exactly what can be found in textbooks, such as in the remarkable *Solids And Surfaces. A Chemist's View of Bonding in Extended Structures*, by R. Hoffmann (Wiley, 1988).\n",
    "<figure>\n",
    "  <img width = \"40%\" src=\"MiscImages/TB/Hoffmann-Hchain-p7.png\" alt=\"H chain\" />\n",
    "  <figcaption >(from R. Hoffmann, <i>A Chemist's View of Bonding in Extended Structures</i>, &copy; Wiley 1991)</figcaption>\n",
    "</figure>\n",
    "\n",
    "This band is nothing else than the Fermi level, *i.e.* the HOMO. \n",
    "</div>"
   ]
  },
  {
   "cell_type": "markdown",
   "id": "ec6526ca-6660-4b5b-a5bf-96d6e6b6feed",
   "metadata": {},
   "source": [
    "#### Density of states (DOS)\n",
    "\n",
    "<div class=\"intro\">\n",
    "\n",
    "For analysis purposes, one often plots the total density of states *g*(*&epsilon;*), defined by:\n",
    "\n",
    "$$g(\\varepsilon)=\\frac{2}{(2\\pi)^{d}}\\sum_{i}\\int_{\\mathrm{BZ}}\\delta(\\varepsilon-\\varepsilon_{i,\\mathbf{k}})d\\mathbf{k}$$\n",
    "\n",
    "Mathematically speaking, the **k**-point set is expressed by a set of fractional numbers *&kappa;*, the coordinates of the k-points in a coordinate system spanned by the reciprocal lattice vectors **b**<sub>*j*</sub>. For example, for a square lattice constant *a*, one chooses:\n",
    "\n",
    "$$\\boldsymbol{\\mathrm{k}}=(\\kappa_{x},\\kappa_{y})\\frac{\\pi}{a}$$\n",
    "\n",
    "There are several possibilities to define *&kappa;*, among them the Monkhorst and Pack. Monkhorst-Pack grids are used to approximate the value of an integral over the Brillouin zone by sampling reciprocal space on a regular grid of **k**-points<br>An *N<sub>x</sub>* &times; *N<sub>y</sub>* grid of **k**-points is calculated as:\n",
    "\n",
    "$$\\boldsymbol{\\kappa}_{x}=\\frac{2n_{x}-N_{x}-1}{2N_{x}}a,\\,\\,\\,\\,\\,\\,\\,n_{x}=1,\\ldots N_{x}$$\n",
    "\n",
    "$$\\boldsymbol{\\kappa}_{y}=\\frac{2n_{y}-N_{y}-1}{2N_{y}}a,\\,\\,\\,\\,\\,\\,\\,n_{y}=1,\\ldots N_{y}$$\n",
    "\n",
    "with integers *n<sub>x</sub>* and *n<sub>y</sub>* ( the factor 2 in the denominators ensures that the **k**-points stay away from the coordinate axis of reciprocal space).<br>\n",
    "It is the special Monkhorst-Pack **k**-point set that is implemented in the `plot_dos` function. \n",
    "</div>"
   ]
  },
  {
   "cell_type": "code",
   "execution_count": null,
   "id": "382a0f4e-659b-4c19-b65f-014227c5fe62",
   "metadata": {},
   "outputs": [],
   "source": [
    "plot_kdosMP(Hsolver, Hlattice, saveFig_path=saveFig_path, FigName=\"DOS_H1D\")"
   ]
  },
  {
   "cell_type": "markdown",
   "id": "fc949aeb-fcdf-42d8-90f0-602afb38cbab",
   "metadata": {},
   "source": [
    "<div class=\"rqT\" title=\"General definition of the Monkhorst-Pack mesh\">\n",
    "\n",
    "$$\\boldsymbol{\\mathcal{\\mathrm{k}}=}\\sum_{i=1}^{3}\\frac{2n_{i}-N_{i}-1}{2N_{i}}\\boldsymbol{\\mathrm{b}}_{i},\\,\\,\\,\\,\\,\\,\\,n_{i}=1,\\ldots N_{i}$$\n",
    "</div>"
   ]
  },
  {
   "cell_type": "markdown",
   "id": "5f7a8a72-77db-4006-a04e-efd39a1a2681",
   "metadata": {},
   "source": [
    "### Increase of the lattice parameter, band width\n",
    "\n",
    "<div class=\"intro\">\n",
    "\n",
    "With a simple tight-binding model, it mainly consists in decreasing the hopping integral, *t*. The lattice paramer, *a*, is decreased as well for plotting purposes, but since *t* does not depend on *a*, changing this parameter has no impact.\n",
    "</div>"
   ]
  },
  {
   "cell_type": "code",
   "execution_count": null,
   "id": "80451a6a-df01-479e-b6db-86b8f342db4e",
   "metadata": {},
   "outputs": [],
   "source": [
    "aH2 = 2*aH\n",
    "tH2 = tH/2\n",
    "\n",
    "Hlattice2 = Hchain_lattice(aH2,tH2)\n",
    "Hmodel2 = pb.Model(\n",
    "    Hlattice2,\n",
    "    pb.translational_symmetry()\n",
    ")\n",
    "Hmodel2.plot()\n",
    "plt.show()\n",
    "\n",
    "Hsolver2 = pb.solver.lapack(Hmodel2)\n",
    "\n",
    "Gamma = [0, 0]\n",
    "X = [pi/aH2, 0]\n",
    "Hbands2 = Hsolver2.calc_bands(Gamma, X)\n",
    "\n",
    "Hbands2.plot(point_labels=kpoints_labels)\n",
    "plt.show()"
   ]
  },
  {
   "cell_type": "markdown",
   "id": "108bdc22-2dc6-407b-a660-386597d489dc",
   "metadata": {},
   "source": [
    "<div class=\"rq\">\n",
    "\n",
    "Compare it to the previous band structure, and to the next picture.\n",
    "<figure>\n",
    "  <img width = \"30%\" src=\"MiscImages/TB/Hoffmann-HchainBW-p8.png\" alt=\"band width in a H chain\" />\n",
    "  <figcaption >(from R. Hoffmann, <i>A Chemist's View of Bonding in Extended Structures</i>, &copy; Wiley 1991)</figcaption>\n",
    "</figure>\n",
    "\n",
    "</div>"
   ]
  },
  {
   "cell_type": "code",
   "execution_count": null,
   "id": "5d263d1e-0c5e-49f6-9b07-73c9019f82ab",
   "metadata": {},
   "outputs": [],
   "source": [
    "plot_kdosMP(Hsolver2,Hlattice2, saveFig_path=saveFig_path, FigName=\"DOS_H1D_weakerInteraction\")"
   ]
  },
  {
   "cell_type": "markdown",
   "id": "743c4c2a-b735-4d91-a795-e91ee89639d9",
   "metadata": {},
   "source": [
    "### More than one AO in the unit cell"
   ]
  },
  {
   "cell_type": "code",
   "execution_count": null,
   "id": "8181618f-7f7c-471e-966d-d2ed6da4f0d1",
   "metadata": {},
   "outputs": [],
   "source": [
    "aH2 = 2*aH\n",
    "tH2 = tH\n",
    "\n",
    "def H2chain_lattice(a=2.0,t=-1.0):\n",
    "    # create a simple 1D lattice with vector a1\n",
    "    lattice = pb.Lattice(a)\n",
    "    lattice.add_one_sublattice('Ha', 0.0)\n",
    "    lattice.add_one_sublattice('Hb', a/2)\n",
    "    lattice.add_one_hopping([0,0], 'Ha', 'Hb', t)\n",
    "    lattice.add_one_hopping([1,0], 'Hb', 'Ha', t)\n",
    "    return lattice\n",
    "\n",
    "H2lattice = H2chain_lattice(aH2,tH2)\n",
    "H2lattice.plot_brillouin_zone()\n",
    "plt.show()\n",
    "\n",
    "H2model = pb.Model(\n",
    "    H2lattice,\n",
    "    pb.translational_symmetry()\n",
    ")\n",
    "H2model.plot()\n",
    "plt.show()\n",
    "\n",
    "H2solver = pb.solver.lapack(H2model)\n",
    "\n",
    "Gamma = [0, 0]\n",
    "X = [pi/aH2, 0]\n",
    "H2bands = H2solver.calc_bands(Gamma, X)\n",
    "\n",
    "H2bands.plot(point_labels=kpoints_labels)\n",
    "plt.show()"
   ]
  },
  {
   "cell_type": "markdown",
   "id": "9ac6fcb3-e367-4292-918f-d03185261647",
   "metadata": {},
   "source": [
    "<div class=\"rq\">\n",
    "\n",
    "This is again exactly whats is found in textbooks.\n",
    "<figure>\n",
    "  <img width = \"50%\" src=\"MiscImages/TB/Hoffmann-H2chain-p90.png\" alt=\"H2 chain\" />\n",
    "  <figcaption >(from R. Hoffmann, <i>A Chemist's View of Bonding in Extended Structures</i>, &copy; Wiley 1991)</figcaption>\n",
    "</figure>\n",
    "\n",
    "There are two bands now, due to the enlargement of the unit cell. But it does not change anything to the increase of the energy of the band as a function of the *k*, and the nature a state &Psi;(*k*) does not change. \n",
    "\n",
    "And the Fermi energy is still 0, with two electrons occupying the lowest band.\n",
    "</div>"
   ]
  },
  {
   "cell_type": "code",
   "execution_count": null,
   "id": "a63d8368-da8f-4d1f-a797-f299df299987",
   "metadata": {},
   "outputs": [],
   "source": [
    "plot_kdosMP(H2solver, H2lattice, saveFig_path=saveFig_path, FigName=\"DOS_H1D\")"
   ]
  },
  {
   "cell_type": "markdown",
   "id": "287feee6-2da5-4400-a557-ec0038d4bfda",
   "metadata": {},
   "source": [
    "### 1D alternating chain band structure, the Peierls distortion\n",
    "\n",
    "<div class=\"intro\">\n",
    "\n",
    "It is the solid-state counterpart of the Jahn-Teller effect. It will occur for systems where a symmetry-lowering deformation will break a degeneracy or quasi-degeneracy of states, provided that it  stabilizes the compound. Let's see how it works on an unsymmetrical chain of hydrogen atoms. Stabilization can be achieved with a distorted hydrogen chain, *i.e.* the hydrogen atoms are in pair. \n",
    "</div>"
   ]
  },
  {
   "cell_type": "code",
   "execution_count": null,
   "id": "5b7e3edd-6e3b-43f5-84ba-0cbdce75d64b",
   "metadata": {},
   "outputs": [],
   "source": [
    "aH2 = 2*aH\n",
    "tH2 = tH\n",
    "\n",
    "def H2Dchain_lattice(a=0.2,t=-1.0):\n",
    "    # create a simple 1D lattice with vector a1\n",
    "    lattice = pb.Lattice(a)\n",
    "    lattice.add_one_sublattice('Ha', 0.0)\n",
    "    lattice.add_one_sublattice('Hb', 0.8*a/2)\n",
    "    lattice.add_one_hopping([0,0], 'Ha', 'Hb', 1.2*t)\n",
    "    lattice.add_one_hopping([1,0], 'Hb', 'Ha', 0.8*t)\n",
    "    return lattice\n",
    "\n",
    "H2Dlattice = H2Dchain_lattice(aH2,tH2)\n",
    "H2Dlattice.plot_brillouin_zone()\n",
    "plt.show()\n",
    "\n",
    "H2Dmodel = pb.Model(\n",
    "    H2Dlattice,\n",
    "    pb.translational_symmetry()\n",
    ")\n",
    "H2Dmodel.plot()\n",
    "plt.show()\n",
    "\n",
    "H2Dsolver = pb.solver.lapack(H2Dmodel)\n",
    "\n",
    "Gamma = [0, 0]\n",
    "X = [pi/aH2, 0]\n",
    "H2Dbands = H2Dsolver.calc_bands(Gamma, X)\n",
    "\n",
    "H2Dbands.plot(point_labels=kpoints_labels)\n",
    "save_fig(\"BandStructure_H1D_Peierls\", saveFig_path)\n",
    "plt.show()"
   ]
  },
  {
   "cell_type": "code",
   "execution_count": null,
   "id": "7eaee2e3-ccb9-4f14-bfef-ae730c351850",
   "metadata": {},
   "outputs": [],
   "source": [
    "# you can uncomment these lines. But the 1D plot is not very informative :-(\n",
    "\n",
    "# from math import pi\n",
    "\n",
    "# H2Dbands = solverSQL.calc_bands(Gamma, X)\n",
    "# H2Dmodel.lattice.plot_brillouin_zone(decorate=False)\n",
    "# kpoints_labels = [f'$\\Gamma$', 'X']\n",
    "# SQLbands.plot_kpath(point_labels=kpoints_labels)"
   ]
  },
  {
   "cell_type": "markdown",
   "id": "ccf9ce31-d535-4e85-a2e0-e4e718bd8a68",
   "metadata": {},
   "source": [
    "<div class=\"rq\">\n",
    "\n",
    "It is exactly what you can find p. 101 of Hoffmann's book. A stabilization of the system occurs at the Fermi level for any *k*. It is maximal for the half-filled band, *i.e.* at &pi;/(2*a*). The scheme on the right highlights the band gand opening at the Fermi energy.\n",
    "<figure>\n",
    "  <img width = \"50%\" src=\"MiscImages/TB/Hoffmann-H2distorted_chain-p101.png\" alt=\"distorted H2 chain\" />\n",
    "  <figcaption >(from R. Hoffmann, <i>A Chemist's View of Bonding in Extended Structures</i>, &copy; Wiley 1991)</figcaption>\n",
    "</figure>\n",
    "</div>"
   ]
  },
  {
   "cell_type": "code",
   "execution_count": null,
   "id": "d3c0ef72-45f2-4575-a66e-f374d9cc63bc",
   "metadata": {},
   "outputs": [],
   "source": [
    "plot_kdosMP(H2Dsolver, H2Dlattice, saveFig_path=saveFig_path, FigName=\"DOS_H1D_Peierls\")"
   ]
  },
  {
   "cell_type": "markdown",
   "id": "1d941bbe-08c5-4ee8-93b7-d661453f3065",
   "metadata": {},
   "source": [
    "## 2D square lattice\n",
    "\n",
    "### Definition of the primitive lattice model"
   ]
  },
  {
   "cell_type": "code",
   "execution_count": null,
   "id": "c2dd5570-2960-4fb2-9f07-7d30fd7f431d",
   "metadata": {},
   "outputs": [],
   "source": [
    "import pybinding as pb\n",
    "import numpy as np\n",
    "import matplotlib.pyplot as plt\n",
    "\n",
    "pb.pltutils.use_style() # applies pybinding’s default style settings for matplotlib\n",
    "\n",
    "def square_lattice(a=0.1, t=-1.):\n",
    "    '''\n",
    "    input:\n",
    "        - a = lattice parameter, in nm (default: 2 angs = 0.2 nm)\n",
    "        - t = hopping energy, in eV (default : -1 eV)\n",
    "    '''\n",
    "    \n",
    "    # create a simple 2D lattice with vectors a1 & a2\n",
    "    lattice = pb.Lattice(a1=[a, 0], a2=[0, a])\n",
    "    lattice.add_sublattices(\n",
    "        ('A', [0, 0], 0.)  # add an atom called 'A' at position [0, 0] and set its associated AO energy to 0 eV\n",
    "    )\n",
    "    lattice.add_hoppings(\n",
    "        # (Difference of the indices of the source and destination unit cells\n",
    "        # Name of the sublattice in the source unit cell, Name of the sublattice in the destination unit cell, hopping energy)\n",
    "        ([0, 1], 'A', 'A', t),\n",
    "        ([1, 0], 'A', 'A', t)\n",
    "    )\n",
    "    return lattice\n",
    "\n",
    "aSQL = 0.1\n",
    "tSQL = -1.\n",
    "SQL = square_lattice(aSQL,tSQL)\n",
    "SQL.plot()  # plot the lattice that was just constructed\n",
    "plt.show()      # standard matplotlib show() function"
   ]
  },
  {
   "cell_type": "code",
   "execution_count": null,
   "id": "133238eb-80e5-4d62-9835-8cf4768b1f44",
   "metadata": {},
   "outputs": [],
   "source": [
    "SQLmodel = pb.Model(\n",
    "    SQL,\n",
    "    pb.translational_symmetry()\n",
    ")\n",
    "SQLmodel.plot()\n",
    "plt.show()"
   ]
  },
  {
   "cell_type": "markdown",
   "id": "74d3ccb7-b669-4791-8b15-97d4b1e728f2",
   "metadata": {},
   "source": [
    "<div class=\"rqT\" title=\"Reminder\">\n",
    "\n",
    "This is a useful representation for checking that the system has been correctly defined using the  add_sublattices` and `add_hoppings` functions, given that:\n",
    "- The red lines indicate hoppings on periodic boundaries\n",
    "- The lighter colored circles represent the translations of the unit cell\n",
    "- The plot only presents the first one in each lattice vector direction\n",
    "</div>"
   ]
  },
  {
   "cell_type": "markdown",
   "id": "0229f4a0-aba7-44eb-b2e7-5d0e40bcd144",
   "metadata": {},
   "source": [
    "### Brillouin zone (BZ)"
   ]
  },
  {
   "cell_type": "code",
   "execution_count": null,
   "id": "a75c193f-0caf-43dc-bf95-8589bc1eee2c",
   "metadata": {},
   "outputs": [],
   "source": [
    "SQL.plot_brillouin_zone()"
   ]
  },
  {
   "cell_type": "markdown",
   "id": "d93a6a2f-780b-4c5b-b210-bc4225ad4adb",
   "metadata": {},
   "source": [
    "<div class=\"rq\">\n",
    "\n",
    "- The Brillouin zone (BZ) is a square spanned by two vectors **b**<sub>1</sub> and **b**<sub>2</sub>\n",
    "- Their norm is *&pi;*/*a* (with *a* = lattice parameter)\n",
    "- This gives the allowed space of *k*: *k*<sub>1</sub>: [0,*&pi;*/*a*] and *k*<sub>2</sub>: [0,*&pi;*/*a*]\n",
    "- Certain special values of *k* have given names:\n",
    "    - &Gamma;: [0,0]. It is the BZ center\n",
    "    - X: [&pi;/*a*,0]) = [0,&pi;/*a*]\n",
    "    - M: [&pi;/*a*,&pi;/*a*]\n",
    "</div>\n",
    "<br>\n",
    "<div class=\"intro\">\n",
    "\n",
    "Let's now visualize these special points on the BZ plot. It can be done by calculating the energy levels of the system. \n",
    "\n",
    "[`Solver`](http://docs.pybinding.site/page/tutorial/../_api/pybinding.solver.html#pybinding.solver.Solver) has a convenient [`calc_bands()`](http://docs.pybinding.site/page/tutorial/../_api/pybinding.solver.html#pybinding.solver.Solver.calc_bands) method which can be used to calculate the band structure of our model\n",
    "\n",
    "The points $\\Gamma, X$ and $M$ are used to draw a path in the reciprocal space of graphene’s Brillouin zone and [`Solver.calc_bands()`](http://docs.pybinding.site/page/tutorial/../_api/pybinding.solver.html#pybinding.solver.Solver.calc_bands) calculates the band energy along that path. The return value of the method is a [`Bands`](http://docs.pybinding.site/page/tutorial/../_api/pybinding.Bands.html#pybinding.Bands) result object.\n",
    "\n",
    "All result objects have built-in plotting methods. Aside from the basic [`plot()`](http://docs.pybinding.site/page/tutorial/../_api/pybinding.Bands.html#pybinding.Bands.plot) seen above, [`Bands`](http://docs.pybinding.site/page/tutorial/../_api/pybinding.Bands.html#pybinding.Bands) also has [`plot_kpath()`](http://docs.pybinding.site/page/tutorial/../_api/pybinding.Bands.html#pybinding.Bands.plot_kpath) which presents the path in reciprocal space. Plots can easily be composed, so to see the path in the context of the Brillouin zone, we can simply plot both:\n",
    "</div>"
   ]
  },
  {
   "cell_type": "code",
   "execution_count": null,
   "id": "a5c73442-7434-440d-8acc-30c604f1b477",
   "metadata": {},
   "outputs": [],
   "source": [
    "from math import pi\n",
    "Gamma = [0, 0]\n",
    "X = [pi/aSQL, 0]\n",
    "M = [pi/aSQL,pi/aSQL]\n",
    "\n",
    "solverSQL = pb.solver.lapack(SQLmodel)\n",
    "SQLbands = solverSQL.calc_bands(Gamma, X, M, Gamma)\n",
    "\n",
    "SQLmodel.lattice.plot_brillouin_zone(decorate=False)\n",
    "kpoints_labels = [f'$\\Gamma$', 'X', 'M', f'$\\Gamma$']\n",
    "SQLbands.plot_kpath(point_labels=kpoints_labels)\n",
    "save_fig(\"BZwithk-HSquareLattice\", saveFig_path)\n",
    "plt.show()"
   ]
  },
  {
   "cell_type": "code",
   "execution_count": null,
   "id": "9838a962-9cf4-4343-a5cd-1fd25d147ace",
   "metadata": {},
   "outputs": [],
   "source": [
    "SQLbands.plot(point_labels=kpoints_labels)\n",
    "save_fig(\"BandStructure-HSquareLattice\", saveFig_path)\n",
    "plt.show()"
   ]
  },
  {
   "cell_type": "markdown",
   "id": "0a523c7c-292c-4fc3-9072-4a0635e4bd36",
   "metadata": {},
   "source": [
    "<div class=\"rq\">\n",
    "\n",
    "M has the highest energy wavefunction and X seems pretty much nonbonding, given its energy. Needless to say that it is again a textbook case:\n",
    "\n",
    "<figure>\n",
    "  <img width = \"55%\" src=\"MiscImages/TB/Hoffmann-SquareLattice-BandStructure.png\" alt=\"square lattice\" />\n",
    "  <figcaption >(from R. Hoffmann, <i>A Chemist's View of Bonding in Extended Structures</i>, &copy; Wiley 1991)</figcaption> \n",
    "</figure>\n",
    "</div>"
   ]
  },
  {
   "cell_type": "code",
   "execution_count": null,
   "id": "cf6dc21c-8c57-4f75-9fd3-71839bb56bad",
   "metadata": {},
   "outputs": [],
   "source": [
    "plot_kdosMP(solverSQL, SQL, saveFig_path=saveFig_path, FigName=\"DOS_HSquareLattice\")"
   ]
  },
  {
   "cell_type": "markdown",
   "id": "774819e5-c9a4-499f-aa51-1cfe1c8c45a1",
   "metadata": {},
   "source": [
    "### 2 &times; 2 square unitcell\n",
    "\n",
    "<div class=\"intro\">\n",
    "\n",
    "A primitive cell is the smallest unit cell of a crystal. For the 2D square lattice, this is the usual 1-atom cell. It’s translated in space to construct a larger system. Sometimes it can be convenient to use a larger unit cell instead, i.e. a supercell consisting of multiple primitive cells.\n",
    "\n",
    "A 2x2 multiple cell is a 4-atom cell. It can be created by adding three more sublattices to the `Lattice` specification\n",
    "</div>"
   ]
  },
  {
   "cell_type": "code",
   "execution_count": null,
   "id": "1a0ff0f9-645b-4860-9406-eb477fc08a01",
   "metadata": {},
   "outputs": [],
   "source": [
    "def square_lattice22(a=0.2, t=-1.):\n",
    "    '''\n",
    "    input:\n",
    "        - a = lattice parameter, in nm (default: 2 angs = 0.2 nm)\n",
    "        - t = hopping energy, in eV (default : -1 eV)\n",
    "    '''\n",
    "    \n",
    "    # create a simple 2D lattice with vectors a1 & a2\n",
    "    lattice = pb.Lattice(a1=[a, 0], a2=[0, a])\n",
    "    lattice.add_sublattices(\n",
    "        ('A', [0, 0], 0.),  # add an atom called 'A' at position [0, 0] and set its associated AO energy to 0 eV\n",
    "        ('Ax', [a/2, 0], 0.),\n",
    "        ('Ay', [0, a/2], 0.),\n",
    "        ('Ad', [a/2, a/2], 0.)\n",
    "    )\n",
    "    lattice.add_hoppings(\n",
    "        # (Difference of the indices of the source and destination unit cells\n",
    "        # Name of the sublattice in the source unit cell, Name of the sublattice in the destination unit cell, hopping energy)\n",
    "        # inside the unit cell\n",
    "        ([0, 0], 'A', 'Ax', t),\n",
    "        ([0, 0], 'A', 'Ay', t),\n",
    "        ([0, 0], 'Ax', 'Ad', t),\n",
    "        ([0, 0], 'Ay', 'Ad', t),\n",
    "        # between neighbouring unit cells\n",
    "        ([1, 0], 'Ax', 'A', t),\n",
    "        ([1, 0], 'Ad', 'Ay', t),\n",
    "        ([0, 1], 'Ay', 'A', t),\n",
    "        ([0, 1], 'Ad', 'Ax', t)\n",
    "    )\n",
    "    return lattice\n",
    "\n",
    "aSQL22 = 0.2\n",
    "tSQL = -1.\n",
    "SQL22 = square_lattice22(aSQL22,tSQL)\n",
    "SQL22.plot()  \n",
    "plt.show()     "
   ]
  },
  {
   "cell_type": "code",
   "execution_count": null,
   "id": "46f13da5-ec49-44e3-b4d9-2fffd74117f0",
   "metadata": {},
   "outputs": [],
   "source": [
    "SQL22model = pb.Model(\n",
    "    SQL22,\n",
    "    pb.translational_symmetry(a1=True,a2=True)\n",
    ")\n",
    "SQL22model.plot()\n",
    "save_fig(\"model-HSquareLattice2x2\", saveFig_path)\n",
    "plt.show()"
   ]
  },
  {
   "cell_type": "code",
   "execution_count": null,
   "id": "6bda7db6-a052-43dd-886e-4bdb0c73648a",
   "metadata": {},
   "outputs": [],
   "source": [
    "SQL22.plot_brillouin_zone()"
   ]
  },
  {
   "cell_type": "code",
   "execution_count": null,
   "id": "4bf2fba0-dde4-4d6e-975b-9b4826aa640b",
   "metadata": {},
   "outputs": [],
   "source": [
    "from math import pi\n",
    "\n",
    "Gamma = [0, 0]\n",
    "X = [pi/(aSQL22), 0]\n",
    "M = [pi/(aSQL22),pi/(aSQL22)]\n",
    "\n",
    "solverSQL22 = pb.solver.lapack(SQL22model)\n",
    "\n",
    "SQL22bands = solverSQL22.calc_bands(Gamma, X, M, Gamma)\n",
    "\n",
    "SQL22model.lattice.plot_brillouin_zone(decorate=False)\n",
    "kpoints_labels = [f'$\\Gamma$', 'X', 'M', f'$\\Gamma$']\n",
    "SQL22bands.plot_kpath(point_labels=kpoints_labels)\n",
    "save_fig(\"BZwithk-HSquareLattice2x2\", saveFig_path)\n",
    "plt.show()\n",
    "\n",
    "SQL22bands.plot(point_labels=kpoints_labels)\n",
    "plt.savefig(\"./FiguresCreatedInNotebooks/HSquareLattice2x2.png\",dpi=300, transparent=True)\n",
    "save_fig(\"BandStructure-HSquareLattice2x2\", saveFig_path)\n",
    "plt.show()\n"
   ]
  },
  {
   "cell_type": "markdown",
   "id": "81f667b5-70a6-4df0-8903-e8edfbed4970",
   "metadata": {},
   "source": [
    "<div class=\"rq\">\n",
    "\n",
    "You can compare it with the band structure of the primitive square unit cell, reported below. Comment?\n",
    "\n",
    "<figure>\n",
    "  <img width = \"30%\" src=\"./FiguresCreatedInNotebooks/TB/HSquareLattice-C.png\" alt=\"BSprimitiveSquareLattice\" /> \n",
    "  <figcaption ><b>Band structure of the primitive square unit cell</b></figcaption> \n",
    "</figure>\n",
    "</div>"
   ]
  },
  {
   "cell_type": "code",
   "execution_count": null,
   "id": "f2301715-432c-4017-b932-0ce97f370e96",
   "metadata": {},
   "outputs": [],
   "source": [
    "plot_kdosMP(solverSQL22, SQL22, saveFig_path=saveFig_path, FigName=\"DOS_HSquareLattice2x2\")"
   ]
  },
  {
   "cell_type": "code",
   "execution_count": null,
   "id": "238abe6f-4f8b-4b3c-b7dc-829da024bf7e",
   "metadata": {},
   "outputs": [],
   "source": [
    "eigenvalues = solverSQL22.calc_eigenvalues()\n",
    "eigenvectors = solverSQL22.eigenvectors\n",
    "\n",
    "eigenvalues\n",
    "eigenvectors\n",
    "\n",
    "eigenvalues.plot()"
   ]
  },
  {
   "cell_type": "markdown",
   "id": "9fc9db41-4783-43a8-a5b5-5463b855f623",
   "metadata": {},
   "source": [
    "### 2 &times; 2 rectangle unit cell\n",
    "\n",
    "<div class=\"exE\">\n",
    "\n",
    "**1.** Define the 2 &times; 2 unit cell of a rectangular lattice of hydrogen atoms, with:\n",
    "- *a*<sub>1</sub> = 0.16 nm\n",
    "- *a*<sub>2</sub> = 0.24 nm\n",
    "- *t*<sub>1</sub> = 1.2 eV\n",
    "- *t*<sub>2</sub> = 0.8 eV\n",
    "\n",
    "**2.** Calculate the band structure: \n",
    "- **2a.** visualize the following special *k*-points on the BZ plot\n",
    "    - &Gamma;: [0, 0]\n",
    "    - X<sub>1</sub>: [&pi;/*a*<sub>1</sub>, 0]\n",
    "    - M: [&pi;/*a*<sub>1</sub>, &pi;/*a*<sub>2</sub>]\n",
    "    - X<sub>2</sub>: [0, &pi;/*a*<sub>2</sub>]\n",
    "- **2b.** plot the band structure for the same *k*-points\n",
    "\n",
    "**3.** Plot the DOS\n",
    "\n",
    "</div>"
   ]
  },
  {
   "cell_type": "code",
   "execution_count": null,
   "id": "d5aa65eb-e1e3-44c2-9f14-ecf666ce87e9",
   "metadata": {},
   "outputs": [],
   "source": [
    "# insert your code here\n",
    "\n"
   ]
  },
  {
   "cell_type": "markdown",
   "id": "daa39255-ea2d-4c07-bbc8-045a7f40886f",
   "metadata": {},
   "source": [
    "<div class=\"sol\">\n",
    "\n",
    "Want to see a possible answer? Uncomment the `# %load ./SolutionsToExercises/...` command below, and then run the cell\n",
    "</div>"
   ]
  },
  {
   "cell_type": "code",
   "execution_count": null,
   "id": "310d911f-2c9d-4b6c-8529-9cc407810e7a",
   "metadata": {},
   "outputs": [],
   "source": [
    "# %load ./SolutionsToExercises/TB/RL22.py"
   ]
  },
  {
   "cell_type": "markdown",
   "id": "831b27c3-72ea-4c8e-a002-4526069f7d9d",
   "metadata": {},
   "source": [
    "<div class=\"rq\">\n",
    "\n",
    "You can compare your calculated band structure with the band structure of the 2 &times; 2 square unit cell, reported below. Comment? \n",
    "\n",
    "<figure>\n",
    "  <img width = \"40%\" src=\"FiguresCreatedInNotebooks/HSquareLattice2x2-C.png\"  alt=\"RectangleLattice22\" />\n",
    "  <figcaption ><b>Band structure of the 2 &times; 2 square unit cell</b></figcaption> \n",
    "</figure>\n",
    "</div>"
   ]
  },
  {
   "cell_type": "markdown",
   "id": "568b2b76-435d-4442-8290-51e5bb1c9a43",
   "metadata": {},
   "source": [
    "## Graphene\n",
    "\n",
    "<figure>\n",
    "<img width = \"800px\" src=\"MiscImages/Introductions/Graphene_1.webp\" alt=\"Image graphene\" />\n",
    "<figcaption>Image made by R.P. with ChatGPT-4o (OpenAI, 11/2024)</figcaption>\n",
    "</figure> \n",
    "\n",
    "### Definition of the primitive lattice model\n",
    "\n",
    "<div class=\"intro\">\n",
    "\n",
    "The honeycomb crystal structure of flat graphene is based on a rhombus primitive unit cell, defined by two vectors **a**<sub>1</sub> and **a**<sub>2</sub>. It contains two atoms only. \n",
    "\n",
    "<img width=\"350\" src=\"./MiscImages/TB/graphene.svg\" style=\"display:block; margin-left:auto; margin-right:auto\" id=\"graphene\"/> \n",
    "</div>"
   ]
  },
  {
   "cell_type": "code",
   "execution_count": null,
   "id": "464bfb8b-d579-4e9c-acc7-c4b2a42b6530",
   "metadata": {},
   "outputs": [],
   "source": [
    "import sympy as sp\n",
    "sp.cos(sp.pi/3)\n",
    "sp.sin(sp.pi/3)"
   ]
  },
  {
   "cell_type": "code",
   "execution_count": null,
   "id": "4ba0b0c6-74ba-4a33-8b62-3161f801d11c",
   "metadata": {},
   "outputs": [],
   "source": [
    "import pybinding as pb\n",
    "import numpy as np\n",
    "import matplotlib.pyplot as plt\n",
    "\n",
    "from math import sqrt, pi\n",
    "\n",
    "def monolayer_graphene(a = 0.24595, eC = 0.0, t = -2.8):\n",
    "    '''\n",
    "    input:\n",
    "    a = 0.24595   # [nm] unit cell length\n",
    "    eC = 0.0      # [eV] on-site energy\n",
    "    t = -2.8      # [eV] nearest neighbour hopping\n",
    "    '''\n",
    "    d_CC = a/sqrt(3.0)\n",
    "    lat = pb.Lattice(a1=[a, 0],\n",
    "                     a2=[a/2, a* sqrt(3)/2])\n",
    "    lat.add_sublattices(('C1', [0, 0], eC),\n",
    "                        ('C2', [0, d_CC], eC))\n",
    "    lat.add_hoppings(\n",
    "        # inside the main cell\n",
    "        ([0,  0], 'C1', 'C2', t),\n",
    "        # between neighboring cells\n",
    "        ([1, -1], 'C1', 'C2', t),\n",
    "        ([0, -1], 'C1', 'C2', t)\n",
    "    )\n",
    "    return lat\n",
    "\n",
    "ag = 0.24595 # [nm] unit cell length\n",
    "tCC = -2.8   # [eV] nearest neighbour hopping\n",
    "dCCg = ag/sqrt(3.0)\n",
    "Glattice = monolayer_graphene(ag, tCC)\n",
    "Glattice.plot()\n",
    "plt.show()"
   ]
  },
  {
   "cell_type": "markdown",
   "id": "9c0c8ee7-a20e-47b5-8e56-d4c7e6eb65bc",
   "metadata": {},
   "source": [
    "<div class=\"intro\">\n",
    "\n",
    "The [`Lattice.add_sublattices()`](http://docs.pybinding.site/page/tutorial/../_api/pybinding.Lattice.html#pybinding.Lattice.add_sublattices) method creates atoms A and B (blue and orange) at different offsets: $[0, -a_{cc}/2]$ and $[0, a_{cc}/2]$. Once again, the translated cells are given at positions $\\vec{R} = n_1 \\vec{a}_1 + n_2 \\vec{a}_2$, however, this time the lattice vectors are not perpendicular which makes the integer indices $[n_1, n_2]$ slightly more complicate (see the labels in the figure).\n",
    "\n",
    "The hoppings are defined as follows:\n",
    "\n",
    "* `([0,  0], 'A', 'B', t)` specifies the hopping inside the main cell, from atom A to B. The main [0,0] cell is never labeled in the figure, but it is always the central cell where the lattice vectors originate.\n",
    "  \n",
    "* `([1, -1], 'A', 'B', t)` specifies the hopping between [0, 0] and [1, -1], from A to B. The opposite hopping is added automatically: [-1, 1], from B to A. In the tight-binding matrix representation, the opposite hopping is the Hermitian conjugate of the first one. The lattice specification always requires explicitly mentioning only one half of the hoppings while the other half is automatically added to guarantee hermiticity.\n",
    "  \n",
    "* `([0, -1], 'A', 'B', t)` is handled in the very same way.\n",
    "  \n",
    "The [`Lattice.plot()`](http://docs.pybinding.site/page/tutorial/../_api/pybinding.Lattice.html#pybinding.Lattice.plot) method will always faithfully draw any lattice that has been specified. It serves as a handy visual inspection tool.\n",
    "\n",
    "</div>\n"
   ]
  },
  {
   "cell_type": "markdown",
   "id": "a504a7f7-3d0b-48b2-b3eb-bd92a1b14e58",
   "metadata": {},
   "source": [
    "### Brillouin zone\n",
    "\n",
    "<div class=\"intro\">\n",
    "\n",
    "The method [`Lattice.plot_brillouin_zone()`](http://docs.pybinding.site/page/tutorial/../_api/pybinding.Lattice.html#pybinding.Lattice.plot_brillouin_zone) is another handy tool that does just as its name implies.\n",
    "\n",
    "</div>"
   ]
  },
  {
   "cell_type": "code",
   "execution_count": null,
   "id": "765c209e-0dcf-49bb-9fbe-5a54bc990af6",
   "metadata": {},
   "outputs": [],
   "source": [
    "Glattice.plot_brillouin_zone()"
   ]
  },
  {
   "cell_type": "markdown",
   "id": "4ae3a633-e35b-44de-bd24-94bb3f2f19d3",
   "metadata": {},
   "source": [
    "### Band structure calculation"
   ]
  },
  {
   "cell_type": "code",
   "execution_count": null,
   "id": "6af1373a-080c-436d-b5e0-6f842d5dafa2",
   "metadata": {},
   "outputs": [],
   "source": [
    "Gmodel = pb.Model(Glattice,\n",
    "          pb.translational_symmetry()\n",
    ")\n",
    "Gmodel.plot()\n",
    "save_fig(\"model_graphene\",saveFig_path)\n",
    "plt.show()"
   ]
  },
  {
   "cell_type": "code",
   "execution_count": null,
   "id": "943d469f-bf6a-4a97-90cc-cfc7ade04f08",
   "metadata": {},
   "outputs": [],
   "source": [
    "Gsolver = pb.solver.lapack(Gmodel)\n",
    "\n",
    "K = [2*pi / (3*sqrt(3)*dCCg), 2*pi / (3*dCCg)]\n",
    "Gamma = [0, 0]\n",
    "M = [0, 2*pi / (3*dCCg)]\n",
    "\n",
    "kpLabels = point_labels=[f'$\\Gamma$', 'K', 'M', f'$\\Gamma$']\n",
    "\n",
    "Gmodel.lattice.plot_brillouin_zone(decorate=True)\n",
    "save_fig(\"BZ_graphene\",saveFig_path)\n",
    "plt.show()\n",
    "plt.show()\n",
    "Gbands = Gsolver.calc_bands(Gamma, K, M, Gamma)"
   ]
  },
  {
   "cell_type": "code",
   "execution_count": null,
   "id": "d3c2a48f-89ea-42d8-ad2d-ea7316f1e5fc",
   "metadata": {},
   "outputs": [],
   "source": [
    "Gmodel.lattice.plot_brillouin_zone(decorate=False)\n",
    "Gbands.plot_kpath(point_labels=kpLabels)\n",
    "save_fig(\"BZwithk_graphene\",saveFig_path)\n",
    "plt.show()"
   ]
  },
  {
   "cell_type": "code",
   "execution_count": null,
   "id": "0374d266-2758-46ed-91e3-9ca34f489f8b",
   "metadata": {},
   "outputs": [],
   "source": [
    "Gbands.plot(point_labels=kpLabels)\n",
    "save_fig(\"BandStructure_graphene\",saveFig_path)\n",
    "plt.show()"
   ]
  },
  {
   "cell_type": "markdown",
   "id": "b2360ee7-3e67-4d2e-b6ca-df3923b3c719",
   "metadata": {},
   "source": [
    "<div class=\"rqT\" title=\"This is typical of a zero-gap semiconductor\">\n",
    "\n",
    "Graphene is a [zero-gap semiconductor](https://en.wikipedia.org/wiki/Electronic_properties_of_graphene), because its conduction and valence bands meet at Dirac points, *i.e.* the meeting points of two [Dirac cones](https://en.wikipedia.org/wiki/Dirac_cone).\n",
    "\n",
    "</div>\n",
    "\n",
    "### DOS plot\n",
    "\n",
    "<div class=\"exE\" title=\"DOS plot\">\n",
    "\n",
    "Check that there is no inconsistency between this comment and the DOS plot\n",
    "\n",
    "</div>"
   ]
  },
  {
   "cell_type": "code",
   "execution_count": null,
   "id": "f7ee8d9c-372f-49df-9cd2-50c5f63248fd",
   "metadata": {},
   "outputs": [],
   "source": [
    "# insert your code here\n"
   ]
  },
  {
   "cell_type": "markdown",
   "id": "8355ba85-54bd-4104-affc-4b8096380c37",
   "metadata": {},
   "source": [
    "<div class=\"sol\">\n",
    "\n",
    "Want to see a possible answer? Uncomment the `# %load ./SolutionsToExercises/...` command below, and then run the cell\n",
    "</div>"
   ]
  },
  {
   "cell_type": "code",
   "execution_count": null,
   "id": "1df6e2ad-57fc-4562-bfd5-555560dc1b34",
   "metadata": {},
   "outputs": [],
   "source": [
    "# %load ./SolutionsToExercises/TB/DOS_graphene.py"
   ]
  },
  {
   "cell_type": "markdown",
   "id": "4059877a-357b-4a63-9329-3caa2f9e9004",
   "metadata": {},
   "source": [
    "# Useful links and bibliography\n",
    "\n",
    "[Tight-binding method on wikipedia](https://en.wikipedia.org/wiki/Tight_binding)\n",
    "\n",
    "[Roald Hoffmann (1987), How Chemistry and Physics Meet in the Solid State, *Angew. Chem. Int. Ed.* **26**:846-878, 10.1002/anie.198708461](https://doi.org/10.1002/anie.198708461)\n",
    "\n",
    "[Roald Hoffmann (1991), Solids And Surfaces. A Chemist's View of Bonding in Extended Structures, Wiley-VCH](https://www.wiley.com/en-us/Solids+and+Surfaces%3A+A+Chemist%27s+View+of+Bonding+in+Extended+Structures-p-9781119815143)\n",
    "\n",
    "[Peter Kratzer and Jörg Neugebauer (2019), The Basics of Electronic Structure Theory for Periodic Systems, *Front. Chem.* **7**:106, 10.3389/fchem.2019.00106](https://doi.org/10.3389/fchem.2019.00106)\n",
    "\n",
    "[Mahesh Datt Bhatt, Heeju Kim, and Gunn Kim (2022), Various defects in graphene: a review, *RSC Adv.* **12**:21520–21547](https://doi.org/10.1039/d2ra01436j)"
   ]
  },
  {
   "cell_type": "code",
   "execution_count": null,
   "id": "41183d4b",
   "metadata": {},
   "outputs": [],
   "source": [
    "vID.end(cwd0)"
   ]
  },
  {
   "cell_type": "code",
   "execution_count": null,
   "id": "f2c418df-d4ff-4aef-9d7e-c979e35a9afe",
   "metadata": {},
   "outputs": [],
   "source": []
  }
 ],
 "metadata": {
  "kernelspec": {
   "display_name": "Python 3 (ipykernel)",
   "language": "python",
   "name": "python3"
  },
  "language_info": {
   "codemirror_mode": {
    "name": "ipython",
    "version": 3
   },
   "file_extension": ".py",
   "mimetype": "text/x-python",
   "name": "python",
   "nbconvert_exporter": "python",
   "pygments_lexer": "ipython3",
   "version": "3.11.10"
  }
 },
 "nbformat": 4,
 "nbformat_minor": 5
}
